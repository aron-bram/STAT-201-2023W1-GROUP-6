{
 "cells": [
  {
   "cell_type": "markdown",
   "id": "019c4198-5631-4928-8a7f-2a76080bf8e2",
   "metadata": {},
   "source": [
    "<H3>PROJECT PROPOSAL</H3>"
   ]
  },
  {
   "cell_type": "markdown",
   "id": "6fd961fe-fead-4746-97e3-25cf5c2e1bbe",
   "metadata": {},
   "source": [
    "<h2> Relationship Between Gender & Mean Age of Football Olympic Athletes</h2>\n",
    "<h6>Group 06 :  Alejandro Solano <b>Romero</b>, Apram <b>Ahuja</b>, Aron <b>Bahram</b> , Ruhani <b>Kaur</b> </h6>"
   ]
  },
  {
   "cell_type": "markdown",
   "id": "eaf95a15-c77f-4e82-b4ac-16bab770aa05",
   "metadata": {},
   "source": [
    "<h3>👋 INTRODUCTION</h3>"
   ]
  },
  {
   "cell_type": "markdown",
   "id": "44984b89-6094-4300-9d7b-6537f7874b12",
   "metadata": {},
   "source": [
    "The aim of this project is to analyze the historical data of Olympic athletes and their performance in various events. The data source for this project is the Kaggle dataset <a href = \"https://www.kaggle.com/datasets/heesoo37/120-years-of-olympic-history-athletes-and-results\">120 years of Olympic history: athletes and results</a>, which was obtained from the <a href = \" https://www.sports-reference.com/\">Sports Reference</a>.\n",
    "\n",
    "The dataset consists of 271116 records, each representing an individual athlete who participated in an Olympic event. The dataset has 15 attributes, ```ID```, `Name`, `Sex`, `Age`, `Height`, `Weight`, `Team`, `NOC`, `Games`, `Year`, `Season`, `City`, `Sport`, `Event` & `Medal`. The dataset covers the period from 1896 to 2016 and includes both summer and winter Olympics.\n",
    "\n",
    "<h5>Research Question</h5>\n",
    "<hr/>\n",
    "We'll be investigating the question <b>whether gender has any effect on the mean age of Olympic athletes in Football from the year 1900 onwards.</b>\n",
    "\n",
    "Our parameter of interest would be the <u>difference of mean age in male and female football olympic athletes</u> from 1900 onwards. As well as, the scale parameter that is useful in answering this question would be the <u>standard deviation of age in male and female olympic athletes<u/>.\n",
    "\n",
    "We were interested in this research question as, the study by Bongard, V. shows negative relationship between age and athletes performance in olympics. Other study states that the decline in performance due to age were more in females football athletes, due to delayed maturation that has been observed in higher-skilled football athletes and differences within the sport in the relative age effect. These results inspire us to dig more into detail for this inferential question.\n"
   ]
  },
  {
   "cell_type": "markdown",
   "id": "fa88c37d-df8f-45fd-8f03-a48b2119df9c",
   "metadata": {},
   "source": [
    "<h2>🧑‍💻 PRELIMENARY RESULTS</h2>"
   ]
  },
  {
   "cell_type": "markdown",
   "id": "6bc0da3b-ff3c-42a0-b356-720f924a5b21",
   "metadata": {},
   "source": [
    "We downloaded the dataset from : \n",
    "https://www.kaggle.com/datasets/heesoo37/120-years-of-olympic-history-athletes-and-results \n",
    "\n",
    "It was then saved in the ```data/``` in our main github repository\n",
    "\n",
    "We installed & loaded all the libraries that we might need to pre-process and visualise the dataset."
   ]
  },
  {
   "cell_type": "markdown",
   "id": "e4233a2b-959c-4f17-8b8d-8bd3e8f7d4b1",
   "metadata": {},
   "source": [
    "<h5>Install packages on R kernel</h5>\n",
    "\n",
    "If these packages are not installed on R kernel then, Run the code cell below once to install packages before loading."
   ]
  },
  {
   "cell_type": "code",
   "execution_count": 1,
   "id": "7af9a6ec-4c05-4b99-85f1-de52369656b6",
   "metadata": {},
   "outputs": [
    {
     "name": "stderr",
     "output_type": "stream",
     "text": [
      "Installing package into ‘/home/jupyter/R/x86_64-pc-linux-gnu-library/4.3’\n",
      "(as ‘lib’ is unspecified)\n",
      "\n",
      "Installing package into ‘/home/jupyter/R/x86_64-pc-linux-gnu-library/4.3’\n",
      "(as ‘lib’ is unspecified)\n",
      "\n",
      "Skipping install of 'datateachr' from a github remote, the SHA1 (78d391f4) has not changed since last install.\n",
      "  Use `force = TRUE` to force installation\n",
      "\n",
      "── \u001b[1mAttaching core tidyverse packages\u001b[22m ──────────────────────── tidyverse 2.0.0 ──\n",
      "\u001b[32m✔\u001b[39m \u001b[34mdplyr    \u001b[39m 1.1.3     \u001b[32m✔\u001b[39m \u001b[34mreadr    \u001b[39m 2.1.4\n",
      "\u001b[32m✔\u001b[39m \u001b[34mforcats  \u001b[39m 1.0.0     \u001b[32m✔\u001b[39m \u001b[34mstringr  \u001b[39m 1.5.0\n",
      "\u001b[32m✔\u001b[39m \u001b[34mggplot2  \u001b[39m 3.4.2     \u001b[32m✔\u001b[39m \u001b[34mtibble   \u001b[39m 3.2.1\n",
      "\u001b[32m✔\u001b[39m \u001b[34mlubridate\u001b[39m 1.9.2     \u001b[32m✔\u001b[39m \u001b[34mtidyr    \u001b[39m 1.3.0\n",
      "\u001b[32m✔\u001b[39m \u001b[34mpurrr    \u001b[39m 1.0.1     \n",
      "── \u001b[1mConflicts\u001b[22m ────────────────────────────────────────── tidyverse_conflicts() ──\n",
      "\u001b[31m✖\u001b[39m \u001b[34mdplyr\u001b[39m::\u001b[32mfilter()\u001b[39m masks \u001b[34mstats\u001b[39m::filter()\n",
      "\u001b[31m✖\u001b[39m \u001b[34mdplyr\u001b[39m::\u001b[32mlag()\u001b[39m    masks \u001b[34mstats\u001b[39m::lag()\n",
      "\u001b[36mℹ\u001b[39m Use the conflicted package (\u001b[3m\u001b[34m<http://conflicted.r-lib.org/>\u001b[39m\u001b[23m) to force all conflicts to become errors\n",
      "Skipping install of 'taxyvr' from a github remote, the SHA1 (227a8d8f) has not changed since last install.\n",
      "  Use `force = TRUE` to force installation\n",
      "\n",
      "Installing package into ‘/home/jupyter/R/x86_64-pc-linux-gnu-library/4.3’\n",
      "(as ‘lib’ is unspecified)\n",
      "\n"
     ]
    }
   ],
   "source": [
    "install.packages('cowplot')\n",
    "install.packages(\"devtools\")\n",
    "devtools::install_github(\"UBC-MDS/datateachr\")\n",
    "library(datateachr)\n",
    "library(tidyverse)\n",
    "devtools::install_github(\"UBC-MDS/taxyvr\", build_vignettes = TRUE)\n",
    "library(taxyvr)\n",
    "install.packages('infer', dependencies = TRUE)"
   ]
  },
  {
   "cell_type": "markdown",
   "id": "c1ff0ed7-7653-43eb-9955-b51e380821f6",
   "metadata": {},
   "source": [
    "<h5>Loading necessary libraries</h5>"
   ]
  },
  {
   "cell_type": "code",
   "execution_count": 2,
   "id": "d2be539b-5012-4a0c-aab3-3be4e819c41d",
   "metadata": {},
   "outputs": [
    {
     "name": "stderr",
     "output_type": "stream",
     "text": [
      "\n",
      "Attaching package: ‘cowplot’\n",
      "\n",
      "\n",
      "The following object is masked from ‘package:lubridate’:\n",
      "\n",
      "    stamp\n",
      "\n",
      "\n"
     ]
    }
   ],
   "source": [
    "library(cowplot)\n",
    "library(datateachr)\n",
    "library(dplyr)\n",
    "library(digest)\n",
    "library(infer)\n",
    "library(repr)\n",
    "library(taxyvr)\n",
    "library(tidyverse)\n",
    "library(ggplot2)\n",
    "options(repr.matrix.max.rows = 6)"
   ]
  },
  {
   "cell_type": "markdown",
   "id": "eb22dd40-ed2a-4680-a8c1-05e176ba05a4",
   "metadata": {},
   "source": [
    "<H3>Dataset</H3>"
   ]
  },
  {
   "cell_type": "code",
   "execution_count": 3,
   "id": "a3279719-1523-44e8-ab29-390a56ef8abb",
   "metadata": {},
   "outputs": [
    {
     "name": "stderr",
     "output_type": "stream",
     "text": [
      "\u001b[1mRows: \u001b[22m\u001b[34m271116\u001b[39m \u001b[1mColumns: \u001b[22m\u001b[34m15\u001b[39m\n",
      "\u001b[36m──\u001b[39m \u001b[1mColumn specification\u001b[22m \u001b[36m────────────────────────────────────────────────────────\u001b[39m\n",
      "\u001b[1mDelimiter:\u001b[22m \",\"\n",
      "\u001b[31mchr\u001b[39m (10): Name, Sex, Team, NOC, Games, Season, City, Sport, Event, Medal\n",
      "\u001b[32mdbl\u001b[39m  (5): ID, Age, Height, Weight, Year\n",
      "\n",
      "\u001b[36mℹ\u001b[39m Use `spec()` to retrieve the full column specification for this data.\n",
      "\u001b[36mℹ\u001b[39m Specify the column types or set `show_col_types = FALSE` to quiet this message.\n"
     ]
    },
    {
     "data": {
      "text/html": [
       "<table class=\"dataframe\">\n",
       "<caption>A tibble: 6 × 15</caption>\n",
       "<thead>\n",
       "\t<tr><th scope=col>ID</th><th scope=col>Name</th><th scope=col>Sex</th><th scope=col>Age</th><th scope=col>Height</th><th scope=col>Weight</th><th scope=col>Team</th><th scope=col>NOC</th><th scope=col>Games</th><th scope=col>Year</th><th scope=col>Season</th><th scope=col>City</th><th scope=col>Sport</th><th scope=col>Event</th><th scope=col>Medal</th></tr>\n",
       "\t<tr><th scope=col>&lt;dbl&gt;</th><th scope=col>&lt;chr&gt;</th><th scope=col>&lt;chr&gt;</th><th scope=col>&lt;dbl&gt;</th><th scope=col>&lt;dbl&gt;</th><th scope=col>&lt;dbl&gt;</th><th scope=col>&lt;chr&gt;</th><th scope=col>&lt;chr&gt;</th><th scope=col>&lt;chr&gt;</th><th scope=col>&lt;dbl&gt;</th><th scope=col>&lt;chr&gt;</th><th scope=col>&lt;chr&gt;</th><th scope=col>&lt;chr&gt;</th><th scope=col>&lt;chr&gt;</th><th scope=col>&lt;chr&gt;</th></tr>\n",
       "</thead>\n",
       "<tbody>\n",
       "\t<tr><td>1</td><td>A Dijiang               </td><td>M</td><td>24</td><td>180</td><td>80</td><td>China         </td><td>CHN</td><td>1992 Summer</td><td>1992</td><td>Summer</td><td>Barcelona</td><td>Basketball   </td><td>Basketball Men's Basketball       </td><td>NA  </td></tr>\n",
       "\t<tr><td>2</td><td>A Lamusi                </td><td>M</td><td>23</td><td>170</td><td>60</td><td>China         </td><td>CHN</td><td>2012 Summer</td><td>2012</td><td>Summer</td><td>London   </td><td>Judo         </td><td>Judo Men's Extra-Lightweight      </td><td>NA  </td></tr>\n",
       "\t<tr><td>3</td><td>Gunnar Nielsen Aaby     </td><td>M</td><td>24</td><td> NA</td><td>NA</td><td>Denmark       </td><td>DEN</td><td>1920 Summer</td><td>1920</td><td>Summer</td><td>Antwerpen</td><td>Football     </td><td>Football Men's Football           </td><td>NA  </td></tr>\n",
       "\t<tr><td>4</td><td>Edgar Lindenau Aabye    </td><td>M</td><td>34</td><td> NA</td><td>NA</td><td>Denmark/Sweden</td><td>DEN</td><td>1900 Summer</td><td>1900</td><td>Summer</td><td>Paris    </td><td>Tug-Of-War   </td><td>Tug-Of-War Men's Tug-Of-War       </td><td>Gold</td></tr>\n",
       "\t<tr><td>5</td><td>Christine Jacoba Aaftink</td><td>F</td><td>21</td><td>185</td><td>82</td><td>Netherlands   </td><td>NED</td><td>1988 Winter</td><td>1988</td><td>Winter</td><td>Calgary  </td><td>Speed Skating</td><td>Speed Skating Women's 500 metres  </td><td>NA  </td></tr>\n",
       "\t<tr><td>5</td><td>Christine Jacoba Aaftink</td><td>F</td><td>21</td><td>185</td><td>82</td><td>Netherlands   </td><td>NED</td><td>1988 Winter</td><td>1988</td><td>Winter</td><td>Calgary  </td><td>Speed Skating</td><td>Speed Skating Women's 1,000 metres</td><td>NA  </td></tr>\n",
       "</tbody>\n",
       "</table>\n"
      ],
      "text/latex": [
       "A tibble: 6 × 15\n",
       "\\begin{tabular}{lllllllllllllll}\n",
       " ID & Name & Sex & Age & Height & Weight & Team & NOC & Games & Year & Season & City & Sport & Event & Medal\\\\\n",
       " <dbl> & <chr> & <chr> & <dbl> & <dbl> & <dbl> & <chr> & <chr> & <chr> & <dbl> & <chr> & <chr> & <chr> & <chr> & <chr>\\\\\n",
       "\\hline\n",
       "\t 1 & A Dijiang                & M & 24 & 180 & 80 & China          & CHN & 1992 Summer & 1992 & Summer & Barcelona & Basketball    & Basketball Men's Basketball        & NA  \\\\\n",
       "\t 2 & A Lamusi                 & M & 23 & 170 & 60 & China          & CHN & 2012 Summer & 2012 & Summer & London    & Judo          & Judo Men's Extra-Lightweight       & NA  \\\\\n",
       "\t 3 & Gunnar Nielsen Aaby      & M & 24 &  NA & NA & Denmark        & DEN & 1920 Summer & 1920 & Summer & Antwerpen & Football      & Football Men's Football            & NA  \\\\\n",
       "\t 4 & Edgar Lindenau Aabye     & M & 34 &  NA & NA & Denmark/Sweden & DEN & 1900 Summer & 1900 & Summer & Paris     & Tug-Of-War    & Tug-Of-War Men's Tug-Of-War        & Gold\\\\\n",
       "\t 5 & Christine Jacoba Aaftink & F & 21 & 185 & 82 & Netherlands    & NED & 1988 Winter & 1988 & Winter & Calgary   & Speed Skating & Speed Skating Women's 500 metres   & NA  \\\\\n",
       "\t 5 & Christine Jacoba Aaftink & F & 21 & 185 & 82 & Netherlands    & NED & 1988 Winter & 1988 & Winter & Calgary   & Speed Skating & Speed Skating Women's 1,000 metres & NA  \\\\\n",
       "\\end{tabular}\n"
      ],
      "text/markdown": [
       "\n",
       "A tibble: 6 × 15\n",
       "\n",
       "| ID &lt;dbl&gt; | Name &lt;chr&gt; | Sex &lt;chr&gt; | Age &lt;dbl&gt; | Height &lt;dbl&gt; | Weight &lt;dbl&gt; | Team &lt;chr&gt; | NOC &lt;chr&gt; | Games &lt;chr&gt; | Year &lt;dbl&gt; | Season &lt;chr&gt; | City &lt;chr&gt; | Sport &lt;chr&gt; | Event &lt;chr&gt; | Medal &lt;chr&gt; |\n",
       "|---|---|---|---|---|---|---|---|---|---|---|---|---|---|---|\n",
       "| 1 | A Dijiang                | M | 24 | 180 | 80 | China          | CHN | 1992 Summer | 1992 | Summer | Barcelona | Basketball    | Basketball Men's Basketball        | NA   |\n",
       "| 2 | A Lamusi                 | M | 23 | 170 | 60 | China          | CHN | 2012 Summer | 2012 | Summer | London    | Judo          | Judo Men's Extra-Lightweight       | NA   |\n",
       "| 3 | Gunnar Nielsen Aaby      | M | 24 |  NA | NA | Denmark        | DEN | 1920 Summer | 1920 | Summer | Antwerpen | Football      | Football Men's Football            | NA   |\n",
       "| 4 | Edgar Lindenau Aabye     | M | 34 |  NA | NA | Denmark/Sweden | DEN | 1900 Summer | 1900 | Summer | Paris     | Tug-Of-War    | Tug-Of-War Men's Tug-Of-War        | Gold |\n",
       "| 5 | Christine Jacoba Aaftink | F | 21 | 185 | 82 | Netherlands    | NED | 1988 Winter | 1988 | Winter | Calgary   | Speed Skating | Speed Skating Women's 500 metres   | NA   |\n",
       "| 5 | Christine Jacoba Aaftink | F | 21 | 185 | 82 | Netherlands    | NED | 1988 Winter | 1988 | Winter | Calgary   | Speed Skating | Speed Skating Women's 1,000 metres | NA   |\n",
       "\n"
      ],
      "text/plain": [
       "  ID Name                     Sex Age Height Weight Team           NOC\n",
       "1 1  A Dijiang                M   24  180    80     China          CHN\n",
       "2 2  A Lamusi                 M   23  170    60     China          CHN\n",
       "3 3  Gunnar Nielsen Aaby      M   24   NA    NA     Denmark        DEN\n",
       "4 4  Edgar Lindenau Aabye     M   34   NA    NA     Denmark/Sweden DEN\n",
       "5 5  Christine Jacoba Aaftink F   21  185    82     Netherlands    NED\n",
       "6 5  Christine Jacoba Aaftink F   21  185    82     Netherlands    NED\n",
       "  Games       Year Season City      Sport        \n",
       "1 1992 Summer 1992 Summer Barcelona Basketball   \n",
       "2 2012 Summer 2012 Summer London    Judo         \n",
       "3 1920 Summer 1920 Summer Antwerpen Football     \n",
       "4 1900 Summer 1900 Summer Paris     Tug-Of-War   \n",
       "5 1988 Winter 1988 Winter Calgary   Speed Skating\n",
       "6 1988 Winter 1988 Winter Calgary   Speed Skating\n",
       "  Event                              Medal\n",
       "1 Basketball Men's Basketball        NA   \n",
       "2 Judo Men's Extra-Lightweight       NA   \n",
       "3 Football Men's Football            NA   \n",
       "4 Tug-Of-War Men's Tug-Of-War        Gold \n",
       "5 Speed Skating Women's 500 metres   NA   \n",
       "6 Speed Skating Women's 1,000 metres NA   "
      ]
     },
     "metadata": {},
     "output_type": "display_data"
    }
   ],
   "source": [
    "data <- read_csv(\"data/athlete_events.csv\")\n",
    "head(data)"
   ]
  },
  {
   "cell_type": "markdown",
   "id": "8924bf47-0a3e-4a07-a48f-20617a5dbe96",
   "metadata": {},
   "source": [
    "<h5> Cleaning and Wrangling into a tidy format</h5>\n",
    "<hr/>\n",
    "For our inferential study, we would look at data from year 1900 & on. As well as, we are accessing who won medals in the Olympics in the event Football Men's/Women's Football. \n",
    "\n",
    "1. We'll first filter our data to select only these columns and remove all the dataset with `NA` age values.\n",
    "2. Now, we'll impute the `NA` medal values with `No` specifying that they didn't won any medal. We won't be removing the examples with `NA` Medal values as it would lead to poor inference by removing the data of athletes who participated in Olympics but didn't win any medal."
   ]
  },
  {
   "cell_type": "code",
   "execution_count": 4,
   "id": "c9cf1988-aaee-4d4f-b50a-74a514ea1214",
   "metadata": {},
   "outputs": [
    {
     "data": {
      "text/html": [
       "<table class=\"dataframe\">\n",
       "<caption>A tibble: 6 × 3</caption>\n",
       "<thead>\n",
       "\t<tr><th scope=col>Sex</th><th scope=col>Age</th><th scope=col>Medal</th></tr>\n",
       "\t<tr><th scope=col>&lt;chr&gt;</th><th scope=col>&lt;dbl&gt;</th><th scope=col>&lt;chr&gt;</th></tr>\n",
       "</thead>\n",
       "<tbody>\n",
       "\t<tr><td>M</td><td>24</td><td>NA    </td></tr>\n",
       "\t<tr><td>F</td><td>23</td><td>Bronze</td></tr>\n",
       "\t<tr><td>M</td><td>28</td><td>NA    </td></tr>\n",
       "\t<tr><td>M</td><td>26</td><td>NA    </td></tr>\n",
       "\t<tr><td>M</td><td>22</td><td>Gold  </td></tr>\n",
       "\t<tr><td>M</td><td>22</td><td>NA    </td></tr>\n",
       "</tbody>\n",
       "</table>\n"
      ],
      "text/latex": [
       "A tibble: 6 × 3\n",
       "\\begin{tabular}{lll}\n",
       " Sex & Age & Medal\\\\\n",
       " <chr> & <dbl> & <chr>\\\\\n",
       "\\hline\n",
       "\t M & 24 & NA    \\\\\n",
       "\t F & 23 & Bronze\\\\\n",
       "\t M & 28 & NA    \\\\\n",
       "\t M & 26 & NA    \\\\\n",
       "\t M & 22 & Gold  \\\\\n",
       "\t M & 22 & NA    \\\\\n",
       "\\end{tabular}\n"
      ],
      "text/markdown": [
       "\n",
       "A tibble: 6 × 3\n",
       "\n",
       "| Sex &lt;chr&gt; | Age &lt;dbl&gt; | Medal &lt;chr&gt; |\n",
       "|---|---|---|\n",
       "| M | 24 | NA     |\n",
       "| F | 23 | Bronze |\n",
       "| M | 28 | NA     |\n",
       "| M | 26 | NA     |\n",
       "| M | 22 | Gold   |\n",
       "| M | 22 | NA     |\n",
       "\n"
      ],
      "text/plain": [
       "  Sex Age Medal \n",
       "1 M   24  NA    \n",
       "2 F   23  Bronze\n",
       "3 M   28  NA    \n",
       "4 M   26  NA    \n",
       "5 M   22  Gold  \n",
       "6 M   22  NA    "
      ]
     },
     "metadata": {},
     "output_type": "display_data"
    },
    {
     "data": {
      "text/html": [
       "<style>\n",
       ".list-inline {list-style: none; margin:0; padding: 0}\n",
       ".list-inline>li {display: inline-block}\n",
       ".list-inline>li:not(:last-child)::after {content: \"\\00b7\"; padding: 0 .5ex}\n",
       "</style>\n",
       "<ol class=list-inline><li>6370</li><li>3</li></ol>\n"
      ],
      "text/latex": [
       "\\begin{enumerate*}\n",
       "\\item 6370\n",
       "\\item 3\n",
       "\\end{enumerate*}\n"
      ],
      "text/markdown": [
       "1. 6370\n",
       "2. 3\n",
       "\n",
       "\n"
      ],
      "text/plain": [
       "[1] 6370    3"
      ]
     },
     "metadata": {},
     "output_type": "display_data"
    },
    {
     "data": {
      "text/html": [
       "4839"
      ],
      "text/latex": [
       "4839"
      ],
      "text/markdown": [
       "4839"
      ],
      "text/plain": [
       "[1] 4839"
      ]
     },
     "metadata": {},
     "output_type": "display_data"
    }
   ],
   "source": [
    "football_data <- data %>% \n",
    "                        filter(Year >= 1900) %>%\n",
    "                        filter(!is.na(Age)) %>%\n",
    "                        filter(Sport == \"Football\" & (Event == \"Football Men's Football\" | Event == \"Football Women's Football\")) %>%\n",
    "                        select(Sex , Age, Medal) \n",
    "head(football_data)\n",
    "dim(football_data)\n",
    "sum(is.na(football_data))"
   ]
  },
  {
   "cell_type": "code",
   "execution_count": 5,
   "id": "f636b7e3-1030-406e-9759-9bd5d6942ade",
   "metadata": {},
   "outputs": [
    {
     "data": {
      "text/html": [
       "<table class=\"dataframe\">\n",
       "<caption>A tibble: 6 × 3</caption>\n",
       "<thead>\n",
       "\t<tr><th scope=col>Sex</th><th scope=col>Age</th><th scope=col>Medal</th></tr>\n",
       "\t<tr><th scope=col>&lt;chr&gt;</th><th scope=col>&lt;dbl&gt;</th><th scope=col>&lt;chr&gt;</th></tr>\n",
       "</thead>\n",
       "<tbody>\n",
       "\t<tr><td>M</td><td>24</td><td>No    </td></tr>\n",
       "\t<tr><td>F</td><td>23</td><td>Bronze</td></tr>\n",
       "\t<tr><td>M</td><td>28</td><td>No    </td></tr>\n",
       "\t<tr><td>M</td><td>26</td><td>No    </td></tr>\n",
       "\t<tr><td>M</td><td>22</td><td>Gold  </td></tr>\n",
       "\t<tr><td>M</td><td>22</td><td>No    </td></tr>\n",
       "</tbody>\n",
       "</table>\n"
      ],
      "text/latex": [
       "A tibble: 6 × 3\n",
       "\\begin{tabular}{lll}\n",
       " Sex & Age & Medal\\\\\n",
       " <chr> & <dbl> & <chr>\\\\\n",
       "\\hline\n",
       "\t M & 24 & No    \\\\\n",
       "\t F & 23 & Bronze\\\\\n",
       "\t M & 28 & No    \\\\\n",
       "\t M & 26 & No    \\\\\n",
       "\t M & 22 & Gold  \\\\\n",
       "\t M & 22 & No    \\\\\n",
       "\\end{tabular}\n"
      ],
      "text/markdown": [
       "\n",
       "A tibble: 6 × 3\n",
       "\n",
       "| Sex &lt;chr&gt; | Age &lt;dbl&gt; | Medal &lt;chr&gt; |\n",
       "|---|---|---|\n",
       "| M | 24 | No     |\n",
       "| F | 23 | Bronze |\n",
       "| M | 28 | No     |\n",
       "| M | 26 | No     |\n",
       "| M | 22 | Gold   |\n",
       "| M | 22 | No     |\n",
       "\n"
      ],
      "text/plain": [
       "  Sex Age Medal \n",
       "1 M   24  No    \n",
       "2 F   23  Bronze\n",
       "3 M   28  No    \n",
       "4 M   26  No    \n",
       "5 M   22  Gold  \n",
       "6 M   22  No    "
      ]
     },
     "metadata": {},
     "output_type": "display_data"
    },
    {
     "data": {
      "text/html": [
       "6370"
      ],
      "text/latex": [
       "6370"
      ],
      "text/markdown": [
       "6370"
      ],
      "text/plain": [
       "[1] 6370"
      ]
     },
     "metadata": {},
     "output_type": "display_data"
    },
    {
     "data": {
      "text/html": [
       "0"
      ],
      "text/latex": [
       "0"
      ],
      "text/markdown": [
       "0"
      ],
      "text/plain": [
       "[1] 0"
      ]
     },
     "metadata": {},
     "output_type": "display_data"
    }
   ],
   "source": [
    "football_data$Medal[is.na(football_data$Medal)]<- \"No\"\n",
    "head(football_data)\n",
    "nrow(football_data)\n",
    "sum(is.na(football_data))"
   ]
  },
  {
   "cell_type": "markdown",
   "id": "5bd85cb0-742d-432b-81ce-8c1ecd913d93",
   "metadata": {},
   "source": [
    "<h5>Sample From the Population of Male/Female Olympic Football Athletes</h5>\n",
    "<hr/>\n",
    "\n",
    "Just like in actual world scenario, we take only one sample without replacement from population. Since, our population size is $6370$, taking a sample size which ~10% is better for inference i.e., sample size of $n = 600$, would be ideal for our research question."
   ]
  },
  {
   "cell_type": "code",
   "execution_count": 6,
   "id": "80ed4e65-a2e1-47b4-881e-65066514f3b0",
   "metadata": {},
   "outputs": [
    {
     "data": {
      "text/html": [
       "<table class=\"dataframe\">\n",
       "<caption>A tibble: 6 × 3</caption>\n",
       "<thead>\n",
       "\t<tr><th scope=col>Sex</th><th scope=col>Age</th><th scope=col>Medal</th></tr>\n",
       "\t<tr><th scope=col>&lt;chr&gt;</th><th scope=col>&lt;dbl&gt;</th><th scope=col>&lt;chr&gt;</th></tr>\n",
       "</thead>\n",
       "<tbody>\n",
       "\t<tr><td>M</td><td>22</td><td>Bronze</td></tr>\n",
       "\t<tr><td>F</td><td>21</td><td>Bronze</td></tr>\n",
       "\t<tr><td>M</td><td>24</td><td>Gold  </td></tr>\n",
       "\t<tr><td>M</td><td>26</td><td>No    </td></tr>\n",
       "\t<tr><td>M</td><td>34</td><td>No    </td></tr>\n",
       "\t<tr><td>M</td><td>20</td><td>No    </td></tr>\n",
       "</tbody>\n",
       "</table>\n"
      ],
      "text/latex": [
       "A tibble: 6 × 3\n",
       "\\begin{tabular}{lll}\n",
       " Sex & Age & Medal\\\\\n",
       " <chr> & <dbl> & <chr>\\\\\n",
       "\\hline\n",
       "\t M & 22 & Bronze\\\\\n",
       "\t F & 21 & Bronze\\\\\n",
       "\t M & 24 & Gold  \\\\\n",
       "\t M & 26 & No    \\\\\n",
       "\t M & 34 & No    \\\\\n",
       "\t M & 20 & No    \\\\\n",
       "\\end{tabular}\n"
      ],
      "text/markdown": [
       "\n",
       "A tibble: 6 × 3\n",
       "\n",
       "| Sex &lt;chr&gt; | Age &lt;dbl&gt; | Medal &lt;chr&gt; |\n",
       "|---|---|---|\n",
       "| M | 22 | Bronze |\n",
       "| F | 21 | Bronze |\n",
       "| M | 24 | Gold   |\n",
       "| M | 26 | No     |\n",
       "| M | 34 | No     |\n",
       "| M | 20 | No     |\n",
       "\n"
      ],
      "text/plain": [
       "  Sex Age Medal \n",
       "1 M   22  Bronze\n",
       "2 F   21  Bronze\n",
       "3 M   24  Gold  \n",
       "4 M   26  No    \n",
       "5 M   34  No    \n",
       "6 M   20  No    "
      ]
     },
     "metadata": {},
     "output_type": "display_data"
    }
   ],
   "source": [
    "set.seed(1234) #for better reproducibility\n",
    "\n",
    "football_sample <- football_data %>%\n",
    "                  sample_n(size = 600)\n",
    "\n",
    "head(football_sample)"
   ]
  },
  {
   "cell_type": "code",
   "execution_count": 7,
   "id": "85ee0914-c152-4a5e-afea-83861664855b",
   "metadata": {},
   "outputs": [
    {
     "data": {
      "text/plain": [
       "   Min. 1st Qu.  Median    Mean 3rd Qu.    Max. \n",
       "  15.00   21.00   23.00   23.45   26.00   38.00 "
      ]
     },
     "metadata": {},
     "output_type": "display_data"
    }
   ],
   "source": [
    "summary(football_sample$Age)"
   ]
  },
  {
   "cell_type": "markdown",
   "id": "8b0b53a2-d0e9-4f01-8648-1067473e65cc",
   "metadata": {},
   "source": [
    "<h4> 📈 Plotting Relevant Data</h4>\n",
    "\n",
    "As we're interested in the difference in mean age for male and female football olympic athletes and their standard deviations i.e., we can look at the histograms of the age distribution for each gender. Additionally, box plot would be great to learn about the spread between these two classes."
   ]
  },
  {
   "cell_type": "code",
   "execution_count": 8,
   "id": "e9ef7266-2c6b-4975-ab1f-20396f5686b9",
   "metadata": {},
   "outputs": [
    {
     "data": {
      "image/png": "[encoded data removed]",
      "text/plain": [
       "plot without title"
      ]
     },
     "metadata": {
      "image/png": {
       "height": 420,
       "width": 420
      }
     },
     "output_type": "display_data"
    }
   ],
   "source": [
    "# filtering sample for female athletes and ploting the age distribution\n",
    "female_age_plot <- football_sample %>%\n",
    "    filter(Sex == 'F') %>%\n",
    "    ggplot(aes(x=Age, fill = Medal)) +\n",
    "    geom_histogram(bins = 10) +\n",
    "    labs(title = \"Female Football Athletes\",\n",
    "         x = \"Age (years)\") +\n",
    "    theme_bw()\n",
    "\n",
    "# filtering sample for male athletes and ploting the age distribution\n",
    "male_age_plot <- football_sample %>%\n",
    "    filter(Sex == 'M') %>%\n",
    "    ggplot(aes(x=Age, fill = Medal)) +\n",
    "    geom_histogram(bins = 10) +\n",
    "    labs(title = \"Male Football Athletes\",\n",
    "         x = \"Age (years)\") +\n",
    "    theme_bw()\n",
    "\n",
    "# comparing the distribution plots between the two genders\n",
    "age_comparison <- plot_grid(female_age_plot, male_age_plot, rel_widths = c(1, 1), rel_heights = c(1, 1))\n",
    "age_comparison"
   ]
  },
  {
   "cell_type": "code",
   "execution_count": 9,
   "id": "96d005d3-2375-4141-83da-0069a56cfada",
   "metadata": {},
   "outputs": [
    {
     "name": "stderr",
     "output_type": "stream",
     "text": [
      "Warning message:\n",
      "“\u001b[1m\u001b[22mThe `<scale>` argument of `guides()` cannot be `FALSE`. Use \"none\" instead as\n",
      "of ggplot2 3.3.4.”\n"
     ]
    },
    {
     "data": {
      "image/png": "[encoded data removed]",
      "text/plain": [
       "plot without title"
      ]
     },
     "metadata": {
      "image/png": {
       "height": 420,
       "width": 420
      }
     },
     "output_type": "display_data"
    }
   ],
   "source": [
    "boxplot <- football_sample %>% \n",
    "            ggplot() +\n",
    "            geom_boxplot(aes(Sex , Age, fill = \"Blue\")) +\n",
    "            theme(text = element_text(size = 18)) +\n",
    "            ggtitle(\"Boxplot Dist Ages of Olympic Football Athletes\") + \n",
    "            xlab(\"Sex of Football Athletes\") + \n",
    "            ylab(\"Age (in yrs)\") + \n",
    "            guides(fill = FALSE)\n",
    "boxplot"
   ]
  },
  {
   "cell_type": "markdown",
   "id": "04a1244b-9278-496e-9392-301d3f0ac213",
   "metadata": {},
   "source": [
    "<h4>🕵️ Observed Statistics</h4>"
   ]
  },
  {
   "cell_type": "code",
   "execution_count": 10,
   "id": "7addff4b-961b-4b23-946b-afde6832655a",
   "metadata": {},
   "outputs": [
    {
     "data": {
      "text/plain": [
       "     Sex                 Age           Medal          \n",
       " Length:507         Min.   :15.00   Length:507        \n",
       " Class :character   1st Qu.:21.00   Class :character  \n",
       " Mode  :character   Median :23.00   Mode  :character  \n",
       "                    Mean   :23.17                     \n",
       "                    3rd Qu.:25.00                     \n",
       "                    Max.   :36.00                     "
      ]
     },
     "metadata": {},
     "output_type": "display_data"
    },
    {
     "data": {
      "text/html": [
       "3.20718976974806"
      ],
      "text/latex": [
       "3.20718976974806"
      ],
      "text/markdown": [
       "3.20718976974806"
      ],
      "text/plain": [
       "[1] 3.20719"
      ]
     },
     "metadata": {},
     "output_type": "display_data"
    }
   ],
   "source": [
    "football_sample_men <- football_sample %>%\n",
    "                        filter(Sex == \"M\")\n",
    "summary(football_sample_men)\n",
    "sd_men_obs <- sd(football_sample_men$Age) #observed sample stnd deviation for male athletes\n",
    "sd_men_obs"
   ]
  },
  {
   "cell_type": "code",
   "execution_count": 11,
   "id": "41e8c3c3-98f6-40de-894e-4cbadfc14723",
   "metadata": {},
   "outputs": [
    {
     "data": {
      "text/plain": [
       "     Sex                 Age           Medal          \n",
       " Length:93          Min.   :18.00   Length:93         \n",
       " Class :character   1st Qu.:22.00   Class :character  \n",
       " Mode  :character   Median :25.00   Mode  :character  \n",
       "                    Mean   :24.97                     \n",
       "                    3rd Qu.:28.00                     \n",
       "                    Max.   :38.00                     "
      ]
     },
     "metadata": {},
     "output_type": "display_data"
    },
    {
     "data": {
      "text/html": [
       "4.3199527294697"
      ],
      "text/latex": [
       "4.3199527294697"
      ],
      "text/markdown": [
       "4.3199527294697"
      ],
      "text/plain": [
       "[1] 4.319953"
      ]
     },
     "metadata": {},
     "output_type": "display_data"
    }
   ],
   "source": [
    "football_sample_female <- football_sample %>%\n",
    "                        filter(Sex == \"F\")\n",
    "summary(football_sample_female)\n",
    "sd_female_obs <- sd(football_sample_female$Age) #observed sample stnd deviation for female athletes\n",
    "sd_female_obs"
   ]
  },
  {
   "cell_type": "code",
   "execution_count": 12,
   "id": "d2561d99-b30a-4a8f-b823-cd15eb81cd0f",
   "metadata": {},
   "outputs": [
    {
     "data": {
      "text/html": [
       "<table class=\"dataframe\">\n",
       "<caption>A data.frame: 1 × 6</caption>\n",
       "<thead>\n",
       "\t<tr><th scope=col>male_sd</th><th scope=col>female_sd</th><th scope=col>male_mean</th><th scope=col>female_mean</th><th scope=col>obs_mean_difference</th><th scope=col>obs_sd_difference</th></tr>\n",
       "\t<tr><th scope=col>&lt;dbl&gt;</th><th scope=col>&lt;dbl&gt;</th><th scope=col>&lt;dbl&gt;</th><th scope=col>&lt;dbl&gt;</th><th scope=col>&lt;dbl&gt;</th><th scope=col>&lt;dbl&gt;</th></tr>\n",
       "</thead>\n",
       "<tbody>\n",
       "\t<tr><td>3.20719</td><td>4.319953</td><td>23.16765</td><td>24.96774</td><td>-1.800089</td><td>-1.112763</td></tr>\n",
       "</tbody>\n",
       "</table>\n"
      ],
      "text/latex": [
       "A data.frame: 1 × 6\n",
       "\\begin{tabular}{llllll}\n",
       " male\\_sd & female\\_sd & male\\_mean & female\\_mean & obs\\_mean\\_difference & obs\\_sd\\_difference\\\\\n",
       " <dbl> & <dbl> & <dbl> & <dbl> & <dbl> & <dbl>\\\\\n",
       "\\hline\n",
       "\t 3.20719 & 4.319953 & 23.16765 & 24.96774 & -1.800089 & -1.112763\\\\\n",
       "\\end{tabular}\n"
      ],
      "text/markdown": [
       "\n",
       "A data.frame: 1 × 6\n",
       "\n",
       "| male_sd &lt;dbl&gt; | female_sd &lt;dbl&gt; | male_mean &lt;dbl&gt; | female_mean &lt;dbl&gt; | obs_mean_difference &lt;dbl&gt; | obs_sd_difference &lt;dbl&gt; |\n",
       "|---|---|---|---|---|---|\n",
       "| 3.20719 | 4.319953 | 23.16765 | 24.96774 | -1.800089 | -1.112763 |\n",
       "\n"
      ],
      "text/plain": [
       "  male_sd female_sd male_mean female_mean obs_mean_difference obs_sd_difference\n",
       "1 3.20719 4.319953  23.16765  24.96774    -1.800089           -1.112763        "
      ]
     },
     "metadata": {},
     "output_type": "display_data"
    }
   ],
   "source": [
    "observed_stat <- data.frame(\n",
    "    male_sd = sd_men_obs,\n",
    "    female_sd = sd_female_obs,\n",
    "    male_mean = mean(football_sample_men$Age),\n",
    "    female_mean = mean(football_sample_female$Age),\n",
    "    obs_mean_difference = mean(football_sample_men$Age)-mean(football_sample_female$Age),\n",
    "    obs_sd_difference = sd_men_obs-sd_female_obs)\n",
    "observed_stat"
   ]
  },
  {
   "cell_type": "markdown",
   "id": "f9bfffa0-9d74-4c31-9987-a5af290c0747",
   "metadata": {},
   "source": [
    "The visualisations above do address our question as there seem to be some difference in the sample means of Male - Female as well as there are some evident differences in the spread of Male and Female respectively.\n",
    "\n",
    "These parameters across the groups (Male,Female) can be seen in the table above."
   ]
  },
  {
   "cell_type": "markdown",
   "id": "5e79df77-7967-4179-972f-f7041b2349f3",
   "metadata": {},
   "source": [
    "<h5>Confidence Interval Plots</h5>\n",
    "\n",
    "We're exploring the Confidence Interval for the parameters like mean and standard deviation for the groups we're interested in (Male and Female)"
   ]
  },
  {
   "cell_type": "code",
   "execution_count": 13,
   "id": "a01d54b8-e24e-4a8f-8c8b-e91fdd84ec6a",
   "metadata": {},
   "outputs": [
    {
     "data": {
      "text/html": [
       "<table class=\"dataframe\">\n",
       "<caption>A infer: 6 × 2</caption>\n",
       "<thead>\n",
       "\t<tr><th scope=col>replicate</th><th scope=col>stat</th></tr>\n",
       "\t<tr><th scope=col>&lt;int&gt;</th><th scope=col>&lt;dbl&gt;</th></tr>\n",
       "</thead>\n",
       "<tbody>\n",
       "\t<tr><td>1</td><td>23.10454</td></tr>\n",
       "\t<tr><td>2</td><td>23.23274</td></tr>\n",
       "\t<tr><td>3</td><td>23.39448</td></tr>\n",
       "\t<tr><td>4</td><td>23.12623</td></tr>\n",
       "\t<tr><td>5</td><td>23.14201</td></tr>\n",
       "\t<tr><td>6</td><td>23.03550</td></tr>\n",
       "</tbody>\n",
       "</table>\n"
      ],
      "text/latex": [
       "A infer: 6 × 2\n",
       "\\begin{tabular}{ll}\n",
       " replicate & stat\\\\\n",
       " <int> & <dbl>\\\\\n",
       "\\hline\n",
       "\t 1 & 23.10454\\\\\n",
       "\t 2 & 23.23274\\\\\n",
       "\t 3 & 23.39448\\\\\n",
       "\t 4 & 23.12623\\\\\n",
       "\t 5 & 23.14201\\\\\n",
       "\t 6 & 23.03550\\\\\n",
       "\\end{tabular}\n"
      ],
      "text/markdown": [
       "\n",
       "A infer: 6 × 2\n",
       "\n",
       "| replicate &lt;int&gt; | stat &lt;dbl&gt; |\n",
       "|---|---|\n",
       "| 1 | 23.10454 |\n",
       "| 2 | 23.23274 |\n",
       "| 3 | 23.39448 |\n",
       "| 4 | 23.12623 |\n",
       "| 5 | 23.14201 |\n",
       "| 6 | 23.03550 |\n",
       "\n"
      ],
      "text/plain": [
       "  replicate stat    \n",
       "1 1         23.10454\n",
       "2 2         23.23274\n",
       "3 3         23.39448\n",
       "4 4         23.12623\n",
       "5 5         23.14201\n",
       "6 6         23.03550"
      ]
     },
     "metadata": {},
     "output_type": "display_data"
    },
    {
     "data": {
      "text/html": [
       "<table class=\"dataframe\">\n",
       "<caption>A tibble: 1 × 2</caption>\n",
       "<thead>\n",
       "\t<tr><th scope=col>lower_ci</th><th scope=col>upper_ci</th></tr>\n",
       "\t<tr><th scope=col>&lt;dbl&gt;</th><th scope=col>&lt;dbl&gt;</th></tr>\n",
       "</thead>\n",
       "<tbody>\n",
       "\t<tr><td>22.8856</td><td>23.45375</td></tr>\n",
       "</tbody>\n",
       "</table>\n"
      ],
      "text/latex": [
       "A tibble: 1 × 2\n",
       "\\begin{tabular}{ll}\n",
       " lower\\_ci & upper\\_ci\\\\\n",
       " <dbl> & <dbl>\\\\\n",
       "\\hline\n",
       "\t 22.8856 & 23.45375\\\\\n",
       "\\end{tabular}\n"
      ],
      "text/markdown": [
       "\n",
       "A tibble: 1 × 2\n",
       "\n",
       "| lower_ci &lt;dbl&gt; | upper_ci &lt;dbl&gt; |\n",
       "|---|---|\n",
       "| 22.8856 | 23.45375 |\n",
       "\n"
      ],
      "text/plain": [
       "  lower_ci upper_ci\n",
       "1 22.8856  23.45375"
      ]
     },
     "metadata": {},
     "output_type": "display_data"
    }
   ],
   "source": [
    "set.seed(423)\n",
    "# Bootstrapping for Estimating Standard Deviation  \n",
    "# TUTORIAL 04 : USE SUMMARISE\n",
    "football_male_resample_mean <- football_sample %>%\n",
    "                    filter(Sex == \"M\")%>%\n",
    "                    specify(response=Age)%>%\n",
    "                    generate(reps=1000, type = \"bootstrap\")%>%\n",
    "                    calculate(stat=\"mean\")\n",
    "football_male_ci_mean<- football_male_resample_mean %>% \n",
    "  get_confidence_interval(level = 0.95, type = \"percentile\")\n",
    "\n",
    "head(football_male_resample_mean)\n",
    "football_male_ci_mean"
   ]
  },
  {
   "cell_type": "code",
   "execution_count": 14,
   "id": "b365a7d9-b2ad-451b-bcf8-4e2224a21394",
   "metadata": {},
   "outputs": [
    {
     "data": {
      "text/html": [
       "<table class=\"dataframe\">\n",
       "<caption>A infer: 6 × 2</caption>\n",
       "<thead>\n",
       "\t<tr><th scope=col>replicate</th><th scope=col>stat</th></tr>\n",
       "\t<tr><th scope=col>&lt;int&gt;</th><th scope=col>&lt;dbl&gt;</th></tr>\n",
       "</thead>\n",
       "<tbody>\n",
       "\t<tr><td>1</td><td>24.96774</td></tr>\n",
       "\t<tr><td>2</td><td>24.36559</td></tr>\n",
       "\t<tr><td>3</td><td>24.50538</td></tr>\n",
       "\t<tr><td>4</td><td>25.04301</td></tr>\n",
       "\t<tr><td>5</td><td>24.86022</td></tr>\n",
       "\t<tr><td>6</td><td>24.83871</td></tr>\n",
       "</tbody>\n",
       "</table>\n"
      ],
      "text/latex": [
       "A infer: 6 × 2\n",
       "\\begin{tabular}{ll}\n",
       " replicate & stat\\\\\n",
       " <int> & <dbl>\\\\\n",
       "\\hline\n",
       "\t 1 & 24.96774\\\\\n",
       "\t 2 & 24.36559\\\\\n",
       "\t 3 & 24.50538\\\\\n",
       "\t 4 & 25.04301\\\\\n",
       "\t 5 & 24.86022\\\\\n",
       "\t 6 & 24.83871\\\\\n",
       "\\end{tabular}\n"
      ],
      "text/markdown": [
       "\n",
       "A infer: 6 × 2\n",
       "\n",
       "| replicate &lt;int&gt; | stat &lt;dbl&gt; |\n",
       "|---|---|\n",
       "| 1 | 24.96774 |\n",
       "| 2 | 24.36559 |\n",
       "| 3 | 24.50538 |\n",
       "| 4 | 25.04301 |\n",
       "| 5 | 24.86022 |\n",
       "| 6 | 24.83871 |\n",
       "\n"
      ],
      "text/plain": [
       "  replicate stat    \n",
       "1 1         24.96774\n",
       "2 2         24.36559\n",
       "3 3         24.50538\n",
       "4 4         25.04301\n",
       "5 5         24.86022\n",
       "6 6         24.83871"
      ]
     },
     "metadata": {},
     "output_type": "display_data"
    },
    {
     "data": {
      "text/html": [
       "<table class=\"dataframe\">\n",
       "<caption>A tibble: 1 × 2</caption>\n",
       "<thead>\n",
       "\t<tr><th scope=col>lower_ci</th><th scope=col>upper_ci</th></tr>\n",
       "\t<tr><th scope=col>&lt;dbl&gt;</th><th scope=col>&lt;dbl&gt;</th></tr>\n",
       "</thead>\n",
       "<tbody>\n",
       "\t<tr><td>24.10726</td><td>25.77419</td></tr>\n",
       "</tbody>\n",
       "</table>\n"
      ],
      "text/latex": [
       "A tibble: 1 × 2\n",
       "\\begin{tabular}{ll}\n",
       " lower\\_ci & upper\\_ci\\\\\n",
       " <dbl> & <dbl>\\\\\n",
       "\\hline\n",
       "\t 24.10726 & 25.77419\\\\\n",
       "\\end{tabular}\n"
      ],
      "text/markdown": [
       "\n",
       "A tibble: 1 × 2\n",
       "\n",
       "| lower_ci &lt;dbl&gt; | upper_ci &lt;dbl&gt; |\n",
       "|---|---|\n",
       "| 24.10726 | 25.77419 |\n",
       "\n"
      ],
      "text/plain": [
       "  lower_ci upper_ci\n",
       "1 24.10726 25.77419"
      ]
     },
     "metadata": {},
     "output_type": "display_data"
    }
   ],
   "source": [
    "set.seed(404)\n",
    "football_female_resample_mean <- football_sample %>%\n",
    "                    filter(Sex == \"F\")%>%\n",
    "                    specify(response=Age)%>%\n",
    "                    generate(reps=1000, type = \"bootstrap\")%>%\n",
    "                    calculate(stat=\"mean\")\n",
    "football_female_ci_mean<- football_female_resample_mean %>% \n",
    "  get_confidence_interval(level = 0.95, type = \"percentile\")\n",
    "\n",
    "head(football_female_resample_mean)\n",
    "football_female_ci_mean"
   ]
  },
  {
   "cell_type": "code",
   "execution_count": 15,
   "id": "9249dffb-8d20-4217-88ec-37bc9db5bad9",
   "metadata": {},
   "outputs": [
    {
     "data": {
      "image/png": "[encoded data removed]",
      "text/plain": [
       "plot without title"
      ]
     },
     "metadata": {
      "image/png": {
       "height": 420,
       "width": 420
      }
     },
     "output_type": "display_data"
    }
   ],
   "source": [
    "male_medal_vis_mean<-football_male_resample_mean%>%\n",
    "                    visualize()+\n",
    "                    ggtitle(\"Football Male Athlete's Mean Age \\nBootstrap Distribution with 95% CI\")+\n",
    "                    labs(x=\"Age\")+\n",
    "                    shade_ci(endpoints = football_male_ci_mean, color=\"red\")\n",
    "female_medal_vis_mean<-football_female_resample_mean%>%\n",
    "                    visualize()+\n",
    "                    ggtitle(\"Football Female Athlete's Mean Age \\n Bootstrap Distribution with 95% CI\")+\n",
    "                    labs(x=\"Age\")+\n",
    "                    shade_ci(endpoints = football_female_ci_mean, color=\"red\")\n",
    "bootstrap_vis_mean <- plot_grid(male_medal_vis_mean, female_medal_vis_mean, rel_widths = c(1, 1), rel_heights = c(1, 1))\n",
    "bootstrap_vis_mean"
   ]
  },
  {
   "cell_type": "code",
   "execution_count": 16,
   "id": "11b59dd7-0483-4327-bd8f-8142f25d19e1",
   "metadata": {},
   "outputs": [
    {
     "data": {
      "text/html": [
       "<table class=\"dataframe\">\n",
       "<caption>A infer: 6 × 2</caption>\n",
       "<thead>\n",
       "\t<tr><th scope=col>replicate</th><th scope=col>stat</th></tr>\n",
       "\t<tr><th scope=col>&lt;int&gt;</th><th scope=col>&lt;dbl&gt;</th></tr>\n",
       "</thead>\n",
       "<tbody>\n",
       "\t<tr><td>1</td><td>3.288721</td></tr>\n",
       "\t<tr><td>2</td><td>3.121125</td></tr>\n",
       "\t<tr><td>3</td><td>3.400665</td></tr>\n",
       "\t<tr><td>4</td><td>3.167436</td></tr>\n",
       "\t<tr><td>5</td><td>3.253615</td></tr>\n",
       "\t<tr><td>6</td><td>3.221092</td></tr>\n",
       "</tbody>\n",
       "</table>\n"
      ],
      "text/latex": [
       "A infer: 6 × 2\n",
       "\\begin{tabular}{ll}\n",
       " replicate & stat\\\\\n",
       " <int> & <dbl>\\\\\n",
       "\\hline\n",
       "\t 1 & 3.288721\\\\\n",
       "\t 2 & 3.121125\\\\\n",
       "\t 3 & 3.400665\\\\\n",
       "\t 4 & 3.167436\\\\\n",
       "\t 5 & 3.253615\\\\\n",
       "\t 6 & 3.221092\\\\\n",
       "\\end{tabular}\n"
      ],
      "text/markdown": [
       "\n",
       "A infer: 6 × 2\n",
       "\n",
       "| replicate &lt;int&gt; | stat &lt;dbl&gt; |\n",
       "|---|---|\n",
       "| 1 | 3.288721 |\n",
       "| 2 | 3.121125 |\n",
       "| 3 | 3.400665 |\n",
       "| 4 | 3.167436 |\n",
       "| 5 | 3.253615 |\n",
       "| 6 | 3.221092 |\n",
       "\n"
      ],
      "text/plain": [
       "  replicate stat    \n",
       "1 1         3.288721\n",
       "2 2         3.121125\n",
       "3 3         3.400665\n",
       "4 4         3.167436\n",
       "5 5         3.253615\n",
       "6 6         3.221092"
      ]
     },
     "metadata": {},
     "output_type": "display_data"
    },
    {
     "data": {
      "text/html": [
       "<table class=\"dataframe\">\n",
       "<caption>A tibble: 1 × 2</caption>\n",
       "<thead>\n",
       "\t<tr><th scope=col>lower_ci</th><th scope=col>upper_ci</th></tr>\n",
       "\t<tr><th scope=col>&lt;dbl&gt;</th><th scope=col>&lt;dbl&gt;</th></tr>\n",
       "</thead>\n",
       "<tbody>\n",
       "\t<tr><td>2.969945</td><td>3.414191</td></tr>\n",
       "</tbody>\n",
       "</table>\n"
      ],
      "text/latex": [
       "A tibble: 1 × 2\n",
       "\\begin{tabular}{ll}\n",
       " lower\\_ci & upper\\_ci\\\\\n",
       " <dbl> & <dbl>\\\\\n",
       "\\hline\n",
       "\t 2.969945 & 3.414191\\\\\n",
       "\\end{tabular}\n"
      ],
      "text/markdown": [
       "\n",
       "A tibble: 1 × 2\n",
       "\n",
       "| lower_ci &lt;dbl&gt; | upper_ci &lt;dbl&gt; |\n",
       "|---|---|\n",
       "| 2.969945 | 3.414191 |\n",
       "\n"
      ],
      "text/plain": [
       "  lower_ci upper_ci\n",
       "1 2.969945 3.414191"
      ]
     },
     "metadata": {},
     "output_type": "display_data"
    }
   ],
   "source": [
    "set.seed(123)\n",
    "# Bootstrapping for Estimating Standard Deviation  \n",
    "# TUTORIAL 04 : USE SUMMARISE\n",
    "football_male_resample_sd <- football_sample %>%\n",
    "                    filter(Sex == \"M\")%>%\n",
    "                    specify(response=Age)%>%\n",
    "                    generate(reps=1000, type = \"bootstrap\")%>%\n",
    "                    calculate(stat=\"sd\")\n",
    "football_male_ci_sd<- football_male_resample_sd %>% \n",
    "  get_confidence_interval(level = 0.95, type = \"percentile\")\n",
    "\n",
    "head(football_male_resample_sd)\n",
    "football_male_ci_sd"
   ]
  },
  {
   "cell_type": "code",
   "execution_count": 17,
   "id": "822944b6-ab1a-4762-a157-7ba6f48b7f06",
   "metadata": {},
   "outputs": [
    {
     "data": {
      "text/html": [
       "<table class=\"dataframe\">\n",
       "<caption>A infer: 6 × 2</caption>\n",
       "<thead>\n",
       "\t<tr><th scope=col>replicate</th><th scope=col>stat</th></tr>\n",
       "\t<tr><th scope=col>&lt;int&gt;</th><th scope=col>&lt;dbl&gt;</th></tr>\n",
       "</thead>\n",
       "<tbody>\n",
       "\t<tr><td>1</td><td>4.223036</td></tr>\n",
       "\t<tr><td>2</td><td>3.930497</td></tr>\n",
       "\t<tr><td>3</td><td>4.024324</td></tr>\n",
       "\t<tr><td>4</td><td>4.026153</td></tr>\n",
       "\t<tr><td>5</td><td>4.528260</td></tr>\n",
       "\t<tr><td>6</td><td>3.831112</td></tr>\n",
       "</tbody>\n",
       "</table>\n"
      ],
      "text/latex": [
       "A infer: 6 × 2\n",
       "\\begin{tabular}{ll}\n",
       " replicate & stat\\\\\n",
       " <int> & <dbl>\\\\\n",
       "\\hline\n",
       "\t 1 & 4.223036\\\\\n",
       "\t 2 & 3.930497\\\\\n",
       "\t 3 & 4.024324\\\\\n",
       "\t 4 & 4.026153\\\\\n",
       "\t 5 & 4.528260\\\\\n",
       "\t 6 & 3.831112\\\\\n",
       "\\end{tabular}\n"
      ],
      "text/markdown": [
       "\n",
       "A infer: 6 × 2\n",
       "\n",
       "| replicate &lt;int&gt; | stat &lt;dbl&gt; |\n",
       "|---|---|\n",
       "| 1 | 4.223036 |\n",
       "| 2 | 3.930497 |\n",
       "| 3 | 4.024324 |\n",
       "| 4 | 4.026153 |\n",
       "| 5 | 4.528260 |\n",
       "| 6 | 3.831112 |\n",
       "\n"
      ],
      "text/plain": [
       "  replicate stat    \n",
       "1 1         4.223036\n",
       "2 2         3.930497\n",
       "3 3         4.024324\n",
       "4 4         4.026153\n",
       "5 5         4.528260\n",
       "6 6         3.831112"
      ]
     },
     "metadata": {},
     "output_type": "display_data"
    },
    {
     "data": {
      "text/html": [
       "<table class=\"dataframe\">\n",
       "<caption>A tibble: 1 × 2</caption>\n",
       "<thead>\n",
       "\t<tr><th scope=col>lower_ci</th><th scope=col>upper_ci</th></tr>\n",
       "\t<tr><th scope=col>&lt;dbl&gt;</th><th scope=col>&lt;dbl&gt;</th></tr>\n",
       "</thead>\n",
       "<tbody>\n",
       "\t<tr><td>3.683722</td><td>4.926247</td></tr>\n",
       "</tbody>\n",
       "</table>\n"
      ],
      "text/latex": [
       "A tibble: 1 × 2\n",
       "\\begin{tabular}{ll}\n",
       " lower\\_ci & upper\\_ci\\\\\n",
       " <dbl> & <dbl>\\\\\n",
       "\\hline\n",
       "\t 3.683722 & 4.926247\\\\\n",
       "\\end{tabular}\n"
      ],
      "text/markdown": [
       "\n",
       "A tibble: 1 × 2\n",
       "\n",
       "| lower_ci &lt;dbl&gt; | upper_ci &lt;dbl&gt; |\n",
       "|---|---|\n",
       "| 3.683722 | 4.926247 |\n",
       "\n"
      ],
      "text/plain": [
       "  lower_ci upper_ci\n",
       "1 3.683722 4.926247"
      ]
     },
     "metadata": {},
     "output_type": "display_data"
    }
   ],
   "source": [
    "set.seed(101)\n",
    "football_female_resample_sd <- football_sample %>%\n",
    "                    filter(Sex == \"F\")%>%\n",
    "                    specify(response=Age)%>%\n",
    "                    generate(reps=1000, type = \"bootstrap\")%>%\n",
    "                    calculate(stat=\"sd\")\n",
    "football_female_ci_sd<- football_female_resample_sd %>% \n",
    "  get_confidence_interval(level = 0.95, type = \"percentile\")\n",
    "\n",
    "head(football_female_resample_sd)\n",
    "football_female_ci_sd"
   ]
  },
  {
   "cell_type": "code",
   "execution_count": 18,
   "id": "02fece91-33dd-4295-92b7-4bc4c66b9cdb",
   "metadata": {},
   "outputs": [
    {
     "data": {
      "image/png": "[encoded data removed]",
      "text/plain": [
       "plot without title"
      ]
     },
     "metadata": {
      "image/png": {
       "height": 420,
       "width": 420
      }
     },
     "output_type": "display_data"
    }
   ],
   "source": [
    "male_medal_vis_sd<-football_male_resample_sd%>%\n",
    "                    visualize()+\n",
    "                    ggtitle(\"Football Male Athlete's SD of Age \\nBootstrap Distribution with 95% CI\")+\n",
    "                    labs(x=\"Age\")+\n",
    "                    shade_ci(endpoints = football_male_ci_sd, color=\"red\")\n",
    "female_medal_vis_sd<-football_female_resample_sd%>%\n",
    "                    visualize()+\n",
    "                    ggtitle(\"Football Female Athlete's SD of Age \\n Bootstrap Distribution with 95% CI\")+\n",
    "                    labs(x=\"Age\")+\n",
    "                    shade_ci(endpoints = football_female_ci_sd, color=\"red\")\n",
    "bootstrap_vis_sd <- plot_grid(male_medal_vis_sd, female_medal_vis_sd, rel_widths = c(1, 1), rel_heights = c(1, 1))\n",
    "bootstrap_vis_sd"
   ]
  },
  {
   "cell_type": "markdown",
   "id": "744718a2-4e93-46ec-96fe-16ea9a728866",
   "metadata": {},
   "source": [
    "<H2>💡 Methods: Plan </H2>"
   ]
  },
  {
   "cell_type": "markdown",
   "id": "4d26a834-8136-4658-83e1-f1673e39de1e",
   "metadata": {},
   "source": [
    "The \"good thing\" about this report is the sample population we are using for the argument, `olympic football athletes` is sampled at random and unbiased fashion. Separating sports competition by gender is often regarded as one of the most controversial topics in the history of sports, especially with the recent rise and push for gender equality. Therefore by using this report, it directly reflects those competing at the highest levels, hence, those who are directly impacted by decision of gender affect on sports. As shown above, we were able to calculate the point estimate mean age and standard deviation of age and parameters of interests, as well as produce graphs that help us visualize those point estimates that help us draw a relationship between the age and the olympic athletes in both genders.\n",
    "\n",
    "(This is done from the single sample we took from population, as we're assuming we don't have access to the population)\n",
    "\n",
    "We see some observed negative differences in Male and Female Athlete's mean & standard deviation of age. However, we know nothing about the reliability of these results. To address this gap, we will be conducting a hypothesis test and <b>calculating a two-tailed 95% confidence interval</b>. \n",
    "\n",
    "Initially, we'll be using bootstrapping method as it can gain a better approximation accuracy than asymptotic distribution (theoretical method). However, if we have enough time, we'll explore asymptotic method to validate our results as it highly depends on CLT and our dataset does satisy CLT conditions due to large sample size ($n= 600$).\n",
    "\n",
    "For both genders, the hypothesis tests will be:\n",
    "\n",
    "$$H_{0} : \\mu_{Age of Male Football Olymic Athletes} - \\mu_{Age of Female Football Olymic Athletes} = 0$$\n",
    "$$H_{A} : \\mu_{Age of Male Football Olymic Athletes} - \\mu_{Age of Female Football Olymic Athletes} \\not= 0$$\n",
    "\n",
    "Additionally, for the the scale parameter hypothesis test will be:\n",
    "\n",
    "$$H_{0} : \\sigma_{Age of Male Football Olymic Athletes} - \\sigma_{Age of Female Football Olymic Athletes} = 0$$\n",
    "$$H_{A} : \\sigma_{Age of Male Football Olymic Athletes} - \\sigma_{Age of Female Football Olymic Athletes} \\not= 0$$\n",
    "\n",
    "<h5>🫰 Expectations</h5>\n",
    "<hr/>\n",
    "We expect the p-value from the hypothesis test to be less than 0.05 ($ p < 0.05$), as this would indicate that the deviations from the null hypothesis to be statistically significant, allowing us to reject the null hypothesis. As for the confidence interval, the sample we are using is really large ($n = 600 > 50$). Therefore a 95% confidence interval should provide a fairly low margin of error, allowing us to prove that the estimates are reliable. \n",
    "\n",
    "This would help us conclude that age does in fact play a role in the performances of athletes for both genders. These findings could be used to argue that sport competitions should or shouldn’t be separated by both gender and age. \n",
    "\n",
    "<h5>🔮 Future Questions</h5>\n",
    "<hr/>\n",
    "Leading to some further questions :\n",
    "Is there a relationship between the Weight Class and Gender for Olympic Football Athletes? Does Gender affect the likeliness of Olympic Football Athletes winning a medal?"
   ]
  },
  {
   "cell_type": "markdown",
   "id": "8f848a21-7762-4683-823c-d208561f53b3",
   "metadata": {},
   "source": [
    "<H2>📚 References</H2>"
   ]
  },
  {
   "cell_type": "markdown",
   "id": "e4e5f1cb-48e2-4f75-94c2-defdd3df4ec5",
   "metadata": {},
   "source": [
    "- Bongard, V., McDermott, A. Y., Dallal, G. E., & Schaefer, E. J. (2007). Effects of age and gender on physical performance. AGE, 29(2-3), 77–85. https://doi.org/10.1007/s11357-007-9034-z\n",
    "\n",
    "- Barreira, J., Bueno, B., & Chiminazzo, J. G. C. (2021). Relative age effect and age of peak performance: an analysis of women’s football players in the Olympic games (1996-2016). In Motriz: Revista de Educação Física (Vol. 27). FapUNIFESP (SciELO). https://doi.org/10.1590/s1980-65742021006921"
   ]
  }
 ],
 "metadata": {
  "kernelspec": {
   "display_name": "R",
   "language": "R",
   "name": "ir"
  },
  "language_info": {
   "codemirror_mode": "r",
   "file_extension": ".r",
   "mimetype": "text/x-r-source",
   "name": "R",
   "pygments_lexer": "r",
   "version": "4.3.0"
  }
 },
 "nbformat": 4,
 "nbformat_minor": 5
}
