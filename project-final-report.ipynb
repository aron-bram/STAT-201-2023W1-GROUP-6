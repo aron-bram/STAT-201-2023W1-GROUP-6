{
 "cells": [
  {
   "cell_type": "markdown",
   "id": "019c4198-5631-4928-8a7f-2a76080bf8e2",
   "metadata": {},
   "source": [
    "<H3>FINAL REPORT</H3>"
   ]
  },
  {
   "cell_type": "markdown",
   "id": "6fd961fe-fead-4746-97e3-25cf5c2e1bbe",
   "metadata": {},
   "source": [
    "<h2> ⚽️ Relationship Between Gender & Mean Age of Football Olympic Athletes</h2>\n",
    "<h6>Group 06 :  Alejandro Solano <b>Romero</b>, Apram <b>Ahuja</b>, Aron <b>Bahram</b> , Ruhani <b>Kaur</b> </h6>"
   ]
  },
  {
   "cell_type": "markdown",
   "id": "eaf95a15-c77f-4e82-b4ac-16bab770aa05",
   "metadata": {},
   "source": [
    "<h3>👋 INTRODUCTION</h3>"
   ]
  },
  {
   "cell_type": "markdown",
   "id": "44984b89-6094-4300-9d7b-6537f7874b12",
   "metadata": {
    "jp-MarkdownHeadingCollapsed": true
   },
   "source": [
    "The aim of this project is to analyze the historical data of Olympic athletes and their performance in various events. The data source for this project is the Kaggle dataset <a href = \"https://www.kaggle.com/datasets/heesoo37/120-years-of-olympic-history-athletes-and-results\">120 years of Olympic history: athletes and results</a>, which was obtained from the <a href = \" https://www.sports-reference.com/\">Sports Reference</a> (Forman, 2000).\n",
    "\n",
    "The dataset consists of 271116 records, each representing an individual athlete who participated in an Olympic event. The dataset has 15 attributes, ```ID```, `Name`, `Sex`, `Age`, `Height`, `Weight`, `Team`, `NOC`, `Games`, `Year`, `Season`, `City`, `Sport`, `Event` & `Medal`. The dataset covers the period from 1896 to 2016 and includes both summer and winter Olympics.\n",
    "\n",
    "<h5>Research Question</h5>\n",
    "<hr/>\n",
    "We'll be investigating the question <b>whether gender has any effect on the mean age of Olympic athletes in Football from the year 1900 onwards.</b>\n",
    "\n",
    "We were interested in this research question as, a previous study shows negative relationship between age and athletes performance in olympics. Bongard V. in his study states that the declines in performance were more in females due to difference in physical development between men and women. As men gain more muscle mass after puberty, women experience more physical changes which alter the physics of their sport, requiring females to re-learn skills as they age (Bongard, V. et al., 2007). However, there is conflicting research which found that predominantly older female football athletes reached the highest levels of competition, thus calling into question whether youth is truly a determining factor in success of female competitors (Barreira et al., 2021) \n",
    "\n",
    "Due to this uncertainity in the relationship between gender and age, our parameter of interest would be the difference of mean age in male and female football olympic athletes from 1900 onwards. As well as, the scale parameter that is useful in answering this question would be the variance of age in male and female olympic athletes."
   ]
  },
  {
   "cell_type": "markdown",
   "id": "fa88c37d-df8f-45fd-8f03-a48b2119df9c",
   "metadata": {},
   "source": [
    "<h3>🧑‍💻 METHODS AND RESULTS </h3>"
   ]
  },
  {
   "cell_type": "markdown",
   "id": "6bc0da3b-ff3c-42a0-b356-720f924a5b21",
   "metadata": {},
   "source": [
    "We downloaded the dataset from : \n",
    "https://www.kaggle.com/datasets/heesoo37/120-years-of-olympic-history-athletes-and-results \n",
    "\n",
    "It was then saved in the ```data/``` in our main github repository\n",
    "\n",
    "We installed & loaded all the libraries that we might need to pre-process and visualise the dataset."
   ]
  },
  {
   "cell_type": "markdown",
   "id": "e4233a2b-959c-4f17-8b8d-8bd3e8f7d4b1",
   "metadata": {},
   "source": [
    "<h5>Install packages on R kernel</h5>\n",
    "\n",
    "Run once to install packages before loading them on the notebook"
   ]
  },
  {
   "cell_type": "code",
   "execution_count": 1,
   "id": "7af9a6ec-4c05-4b99-85f1-de52369656b6",
   "metadata": {},
   "outputs": [
    {
     "name": "stderr",
     "output_type": "stream",
     "text": [
      "Installing package into ‘/home/jupyter/R/x86_64-pc-linux-gnu-library/4.3’\n",
      "(as ‘lib’ is unspecified)\n",
      "\n",
      "Installing package into ‘/home/jupyter/R/x86_64-pc-linux-gnu-library/4.3’\n",
      "(as ‘lib’ is unspecified)\n",
      "\n",
      "Skipping install of 'datateachr' from a github remote, the SHA1 (78d391f4) has not changed since last install.\n",
      "  Use `force = TRUE` to force installation\n",
      "\n",
      "── \u001b[1mAttaching core tidyverse packages\u001b[22m ──────────────────────── tidyverse 2.0.0 ──\n",
      "\u001b[32m✔\u001b[39m \u001b[34mdplyr    \u001b[39m 1.1.3     \u001b[32m✔\u001b[39m \u001b[34mreadr    \u001b[39m 2.1.4\n",
      "\u001b[32m✔\u001b[39m \u001b[34mforcats  \u001b[39m 1.0.0     \u001b[32m✔\u001b[39m \u001b[34mstringr  \u001b[39m 1.5.0\n",
      "\u001b[32m✔\u001b[39m \u001b[34mggplot2  \u001b[39m 3.4.2     \u001b[32m✔\u001b[39m \u001b[34mtibble   \u001b[39m 3.2.1\n",
      "\u001b[32m✔\u001b[39m \u001b[34mlubridate\u001b[39m 1.9.2     \u001b[32m✔\u001b[39m \u001b[34mtidyr    \u001b[39m 1.3.0\n",
      "\u001b[32m✔\u001b[39m \u001b[34mpurrr    \u001b[39m 1.0.1     \n",
      "── \u001b[1mConflicts\u001b[22m ────────────────────────────────────────── tidyverse_conflicts() ──\n",
      "\u001b[31m✖\u001b[39m \u001b[34mdplyr\u001b[39m::\u001b[32mfilter()\u001b[39m masks \u001b[34mstats\u001b[39m::filter()\n",
      "\u001b[31m✖\u001b[39m \u001b[34mdplyr\u001b[39m::\u001b[32mlag()\u001b[39m    masks \u001b[34mstats\u001b[39m::lag()\n",
      "\u001b[36mℹ\u001b[39m Use the conflicted package (\u001b[3m\u001b[34m<http://conflicted.r-lib.org/>\u001b[39m\u001b[23m) to force all conflicts to become errors\n",
      "Skipping install of 'taxyvr' from a github remote, the SHA1 (227a8d8f) has not changed since last install.\n",
      "  Use `force = TRUE` to force installation\n",
      "\n",
      "Installing package into ‘/home/jupyter/R/x86_64-pc-linux-gnu-library/4.3’\n",
      "(as ‘lib’ is unspecified)\n",
      "\n"
     ]
    }
   ],
   "source": [
    "install.packages('cowplot')\n",
    "install.packages(\"devtools\")\n",
    "devtools::install_github(\"UBC-MDS/datateachr\")\n",
    "library(datateachr)\n",
    "library(tidyverse)\n",
    "devtools::install_github(\"UBC-MDS/taxyvr\", build_vignettes = TRUE)\n",
    "library(taxyvr)\n",
    "install.packages('infer', dependencies = TRUE)"
   ]
  },
  {
   "cell_type": "markdown",
   "id": "c1ff0ed7-7653-43eb-9955-b51e380821f6",
   "metadata": {},
   "source": [
    "<h5>Loading necessary libraries</h5>"
   ]
  },
  {
   "cell_type": "code",
   "execution_count": 2,
   "id": "d2be539b-5012-4a0c-aab3-3be4e819c41d",
   "metadata": {},
   "outputs": [
    {
     "name": "stderr",
     "output_type": "stream",
     "text": [
      "\n",
      "Attaching package: ‘cowplot’\n",
      "\n",
      "\n",
      "The following object is masked from ‘package:lubridate’:\n",
      "\n",
      "    stamp\n",
      "\n",
      "\n"
     ]
    }
   ],
   "source": [
    "library(cowplot)\n",
    "library(datateachr)\n",
    "library(broom)\n",
    "library(dplyr)\n",
    "library(digest)\n",
    "library(infer)\n",
    "library(repr)\n",
    "library(taxyvr)\n",
    "library(tidyverse)\n",
    "library(ggplot2)\n",
    "options(repr.matrix.max.rows = 6)"
   ]
  },
  {
   "cell_type": "markdown",
   "id": "eb22dd40-ed2a-4680-a8c1-05e176ba05a4",
   "metadata": {},
   "source": [
    "<H3> 📊 Preliminary Results</H3>"
   ]
  },
  {
   "cell_type": "code",
   "execution_count": 3,
   "id": "a3279719-1523-44e8-ab29-390a56ef8abb",
   "metadata": {},
   "outputs": [
    {
     "name": "stderr",
     "output_type": "stream",
     "text": [
      "\u001b[1mRows: \u001b[22m\u001b[34m271116\u001b[39m \u001b[1mColumns: \u001b[22m\u001b[34m15\u001b[39m\n",
      "\u001b[36m──\u001b[39m \u001b[1mColumn specification\u001b[22m \u001b[36m────────────────────────────────────────────────────────\u001b[39m\n",
      "\u001b[1mDelimiter:\u001b[22m \",\"\n",
      "\u001b[31mchr\u001b[39m (10): Name, Sex, Team, NOC, Games, Season, City, Sport, Event, Medal\n",
      "\u001b[32mdbl\u001b[39m  (5): ID, Age, Height, Weight, Year\n",
      "\n",
      "\u001b[36mℹ\u001b[39m Use `spec()` to retrieve the full column specification for this data.\n",
      "\u001b[36mℹ\u001b[39m Specify the column types or set `show_col_types = FALSE` to quiet this message.\n"
     ]
    },
    {
     "data": {
      "text/html": [
       "<table class=\"dataframe\">\n",
       "<caption>A tibble: 6 × 15</caption>\n",
       "<thead>\n",
       "\t<tr><th scope=col>ID</th><th scope=col>Name</th><th scope=col>Sex</th><th scope=col>Age</th><th scope=col>Height</th><th scope=col>Weight</th><th scope=col>Team</th><th scope=col>NOC</th><th scope=col>Games</th><th scope=col>Year</th><th scope=col>Season</th><th scope=col>City</th><th scope=col>Sport</th><th scope=col>Event</th><th scope=col>Medal</th></tr>\n",
       "\t<tr><th scope=col>&lt;dbl&gt;</th><th scope=col>&lt;chr&gt;</th><th scope=col>&lt;chr&gt;</th><th scope=col>&lt;dbl&gt;</th><th scope=col>&lt;dbl&gt;</th><th scope=col>&lt;dbl&gt;</th><th scope=col>&lt;chr&gt;</th><th scope=col>&lt;chr&gt;</th><th scope=col>&lt;chr&gt;</th><th scope=col>&lt;dbl&gt;</th><th scope=col>&lt;chr&gt;</th><th scope=col>&lt;chr&gt;</th><th scope=col>&lt;chr&gt;</th><th scope=col>&lt;chr&gt;</th><th scope=col>&lt;chr&gt;</th></tr>\n",
       "</thead>\n",
       "<tbody>\n",
       "\t<tr><td>1</td><td>A Dijiang               </td><td>M</td><td>24</td><td>180</td><td>80</td><td>China         </td><td>CHN</td><td>1992 Summer</td><td>1992</td><td>Summer</td><td>Barcelona</td><td>Basketball   </td><td>Basketball Men's Basketball       </td><td>NA  </td></tr>\n",
       "\t<tr><td>2</td><td>A Lamusi                </td><td>M</td><td>23</td><td>170</td><td>60</td><td>China         </td><td>CHN</td><td>2012 Summer</td><td>2012</td><td>Summer</td><td>London   </td><td>Judo         </td><td>Judo Men's Extra-Lightweight      </td><td>NA  </td></tr>\n",
       "\t<tr><td>3</td><td>Gunnar Nielsen Aaby     </td><td>M</td><td>24</td><td> NA</td><td>NA</td><td>Denmark       </td><td>DEN</td><td>1920 Summer</td><td>1920</td><td>Summer</td><td>Antwerpen</td><td>Football     </td><td>Football Men's Football           </td><td>NA  </td></tr>\n",
       "\t<tr><td>4</td><td>Edgar Lindenau Aabye    </td><td>M</td><td>34</td><td> NA</td><td>NA</td><td>Denmark/Sweden</td><td>DEN</td><td>1900 Summer</td><td>1900</td><td>Summer</td><td>Paris    </td><td>Tug-Of-War   </td><td>Tug-Of-War Men's Tug-Of-War       </td><td>Gold</td></tr>\n",
       "\t<tr><td>5</td><td>Christine Jacoba Aaftink</td><td>F</td><td>21</td><td>185</td><td>82</td><td>Netherlands   </td><td>NED</td><td>1988 Winter</td><td>1988</td><td>Winter</td><td>Calgary  </td><td>Speed Skating</td><td>Speed Skating Women's 500 metres  </td><td>NA  </td></tr>\n",
       "\t<tr><td>5</td><td>Christine Jacoba Aaftink</td><td>F</td><td>21</td><td>185</td><td>82</td><td>Netherlands   </td><td>NED</td><td>1988 Winter</td><td>1988</td><td>Winter</td><td>Calgary  </td><td>Speed Skating</td><td>Speed Skating Women's 1,000 metres</td><td>NA  </td></tr>\n",
       "</tbody>\n",
       "</table>\n"
      ],
      "text/latex": [
       "A tibble: 6 × 15\n",
       "\\begin{tabular}{lllllllllllllll}\n",
       " ID & Name & Sex & Age & Height & Weight & Team & NOC & Games & Year & Season & City & Sport & Event & Medal\\\\\n",
       " <dbl> & <chr> & <chr> & <dbl> & <dbl> & <dbl> & <chr> & <chr> & <chr> & <dbl> & <chr> & <chr> & <chr> & <chr> & <chr>\\\\\n",
       "\\hline\n",
       "\t 1 & A Dijiang                & M & 24 & 180 & 80 & China          & CHN & 1992 Summer & 1992 & Summer & Barcelona & Basketball    & Basketball Men's Basketball        & NA  \\\\\n",
       "\t 2 & A Lamusi                 & M & 23 & 170 & 60 & China          & CHN & 2012 Summer & 2012 & Summer & London    & Judo          & Judo Men's Extra-Lightweight       & NA  \\\\\n",
       "\t 3 & Gunnar Nielsen Aaby      & M & 24 &  NA & NA & Denmark        & DEN & 1920 Summer & 1920 & Summer & Antwerpen & Football      & Football Men's Football            & NA  \\\\\n",
       "\t 4 & Edgar Lindenau Aabye     & M & 34 &  NA & NA & Denmark/Sweden & DEN & 1900 Summer & 1900 & Summer & Paris     & Tug-Of-War    & Tug-Of-War Men's Tug-Of-War        & Gold\\\\\n",
       "\t 5 & Christine Jacoba Aaftink & F & 21 & 185 & 82 & Netherlands    & NED & 1988 Winter & 1988 & Winter & Calgary   & Speed Skating & Speed Skating Women's 500 metres   & NA  \\\\\n",
       "\t 5 & Christine Jacoba Aaftink & F & 21 & 185 & 82 & Netherlands    & NED & 1988 Winter & 1988 & Winter & Calgary   & Speed Skating & Speed Skating Women's 1,000 metres & NA  \\\\\n",
       "\\end{tabular}\n"
      ],
      "text/markdown": [
       "\n",
       "A tibble: 6 × 15\n",
       "\n",
       "| ID &lt;dbl&gt; | Name &lt;chr&gt; | Sex &lt;chr&gt; | Age &lt;dbl&gt; | Height &lt;dbl&gt; | Weight &lt;dbl&gt; | Team &lt;chr&gt; | NOC &lt;chr&gt; | Games &lt;chr&gt; | Year &lt;dbl&gt; | Season &lt;chr&gt; | City &lt;chr&gt; | Sport &lt;chr&gt; | Event &lt;chr&gt; | Medal &lt;chr&gt; |\n",
       "|---|---|---|---|---|---|---|---|---|---|---|---|---|---|---|\n",
       "| 1 | A Dijiang                | M | 24 | 180 | 80 | China          | CHN | 1992 Summer | 1992 | Summer | Barcelona | Basketball    | Basketball Men's Basketball        | NA   |\n",
       "| 2 | A Lamusi                 | M | 23 | 170 | 60 | China          | CHN | 2012 Summer | 2012 | Summer | London    | Judo          | Judo Men's Extra-Lightweight       | NA   |\n",
       "| 3 | Gunnar Nielsen Aaby      | M | 24 |  NA | NA | Denmark        | DEN | 1920 Summer | 1920 | Summer | Antwerpen | Football      | Football Men's Football            | NA   |\n",
       "| 4 | Edgar Lindenau Aabye     | M | 34 |  NA | NA | Denmark/Sweden | DEN | 1900 Summer | 1900 | Summer | Paris     | Tug-Of-War    | Tug-Of-War Men's Tug-Of-War        | Gold |\n",
       "| 5 | Christine Jacoba Aaftink | F | 21 | 185 | 82 | Netherlands    | NED | 1988 Winter | 1988 | Winter | Calgary   | Speed Skating | Speed Skating Women's 500 metres   | NA   |\n",
       "| 5 | Christine Jacoba Aaftink | F | 21 | 185 | 82 | Netherlands    | NED | 1988 Winter | 1988 | Winter | Calgary   | Speed Skating | Speed Skating Women's 1,000 metres | NA   |\n",
       "\n"
      ],
      "text/plain": [
       "  ID Name                     Sex Age Height Weight Team           NOC\n",
       "1 1  A Dijiang                M   24  180    80     China          CHN\n",
       "2 2  A Lamusi                 M   23  170    60     China          CHN\n",
       "3 3  Gunnar Nielsen Aaby      M   24   NA    NA     Denmark        DEN\n",
       "4 4  Edgar Lindenau Aabye     M   34   NA    NA     Denmark/Sweden DEN\n",
       "5 5  Christine Jacoba Aaftink F   21  185    82     Netherlands    NED\n",
       "6 5  Christine Jacoba Aaftink F   21  185    82     Netherlands    NED\n",
       "  Games       Year Season City      Sport        \n",
       "1 1992 Summer 1992 Summer Barcelona Basketball   \n",
       "2 2012 Summer 2012 Summer London    Judo         \n",
       "3 1920 Summer 1920 Summer Antwerpen Football     \n",
       "4 1900 Summer 1900 Summer Paris     Tug-Of-War   \n",
       "5 1988 Winter 1988 Winter Calgary   Speed Skating\n",
       "6 1988 Winter 1988 Winter Calgary   Speed Skating\n",
       "  Event                              Medal\n",
       "1 Basketball Men's Basketball        NA   \n",
       "2 Judo Men's Extra-Lightweight       NA   \n",
       "3 Football Men's Football            NA   \n",
       "4 Tug-Of-War Men's Tug-Of-War        Gold \n",
       "5 Speed Skating Women's 500 metres   NA   \n",
       "6 Speed Skating Women's 1,000 metres NA   "
      ]
     },
     "metadata": {},
     "output_type": "display_data"
    }
   ],
   "source": [
    "data <- read_csv(\"data/athlete_events.csv\")\n",
    "head(data)"
   ]
  },
  {
   "cell_type": "markdown",
   "id": "2d1ab09d-280d-4795-af6e-33d75e9d5689",
   "metadata": {},
   "source": [
    "<b>Table 1:</b> Preview of complete dataset from the source"
   ]
  },
  {
   "cell_type": "markdown",
   "id": "8924bf47-0a3e-4a07-a48f-20617a5dbe96",
   "metadata": {},
   "source": [
    "<h5> Cleaning and Wrangling into a tidy format</h5>\n",
    "<hr/>\n",
    "For our inferential study, we would look at data from year 1900 & on. As well as, we are accessing Olympic athletes in the event Football Men's/Women's Football. \n",
    "\n",
    "1. We'll first filter our data to select only these columns and remove all the dataset with `NA` age values.\n",
    "2. Now, we'll impute the `NA` medal values with `No` specifying that they didn't won any medal. We won't be removing the examples with `NA` Medal values as it would lead to poor inference by removing the data of athletes who participated in Olympics but didn't win any medal."
   ]
  },
  {
   "cell_type": "code",
   "execution_count": 4,
   "id": "c9cf1988-aaee-4d4f-b50a-74a514ea1214",
   "metadata": {},
   "outputs": [
    {
     "name": "stdout",
     "output_type": "stream",
     "text": [
      "[1] 6370    3\n",
      "[1] 4839\n"
     ]
    },
    {
     "data": {
      "text/html": [
       "<table class=\"dataframe\">\n",
       "<caption>A tibble: 6 × 3</caption>\n",
       "<thead>\n",
       "\t<tr><th scope=col>Sex</th><th scope=col>Age</th><th scope=col>Medal</th></tr>\n",
       "\t<tr><th scope=col>&lt;chr&gt;</th><th scope=col>&lt;dbl&gt;</th><th scope=col>&lt;chr&gt;</th></tr>\n",
       "</thead>\n",
       "<tbody>\n",
       "\t<tr><td>M</td><td>24</td><td>NA    </td></tr>\n",
       "\t<tr><td>F</td><td>23</td><td>Bronze</td></tr>\n",
       "\t<tr><td>M</td><td>28</td><td>NA    </td></tr>\n",
       "\t<tr><td>M</td><td>26</td><td>NA    </td></tr>\n",
       "\t<tr><td>M</td><td>22</td><td>Gold  </td></tr>\n",
       "\t<tr><td>M</td><td>22</td><td>NA    </td></tr>\n",
       "</tbody>\n",
       "</table>\n"
      ],
      "text/latex": [
       "A tibble: 6 × 3\n",
       "\\begin{tabular}{lll}\n",
       " Sex & Age & Medal\\\\\n",
       " <chr> & <dbl> & <chr>\\\\\n",
       "\\hline\n",
       "\t M & 24 & NA    \\\\\n",
       "\t F & 23 & Bronze\\\\\n",
       "\t M & 28 & NA    \\\\\n",
       "\t M & 26 & NA    \\\\\n",
       "\t M & 22 & Gold  \\\\\n",
       "\t M & 22 & NA    \\\\\n",
       "\\end{tabular}\n"
      ],
      "text/markdown": [
       "\n",
       "A tibble: 6 × 3\n",
       "\n",
       "| Sex &lt;chr&gt; | Age &lt;dbl&gt; | Medal &lt;chr&gt; |\n",
       "|---|---|---|\n",
       "| M | 24 | NA     |\n",
       "| F | 23 | Bronze |\n",
       "| M | 28 | NA     |\n",
       "| M | 26 | NA     |\n",
       "| M | 22 | Gold   |\n",
       "| M | 22 | NA     |\n",
       "\n"
      ],
      "text/plain": [
       "  Sex Age Medal \n",
       "1 M   24  NA    \n",
       "2 F   23  Bronze\n",
       "3 M   28  NA    \n",
       "4 M   26  NA    \n",
       "5 M   22  Gold  \n",
       "6 M   22  NA    "
      ]
     },
     "metadata": {},
     "output_type": "display_data"
    }
   ],
   "source": [
    "football_data <- data %>% \n",
    "                        filter(Year >= 1900) %>%\n",
    "                        filter(!is.na(Age)) %>%\n",
    "                        filter(Sport == \"Football\" & (Event == \"Football Men's Football\" | Event == \"Football Women's Football\")) %>%\n",
    "                        select(Sex , Age, Medal) \n",
    "print(dim(football_data))\n",
    "print(sum(is.na(football_data)))\n",
    "head(football_data)"
   ]
  },
  {
   "cell_type": "markdown",
   "id": "a1e30fc7-f9ef-4d81-b45a-f17047b09e69",
   "metadata": {},
   "source": [
    "<b>Table 2:</b> Preview of Football Data 1900 onwards"
   ]
  },
  {
   "cell_type": "code",
   "execution_count": 5,
   "id": "f636b7e3-1030-406e-9759-9bd5d6942ade",
   "metadata": {},
   "outputs": [
    {
     "name": "stdout",
     "output_type": "stream",
     "text": [
      "[1] 6370\n",
      "[1] 0\n"
     ]
    },
    {
     "data": {
      "text/html": [
       "<table class=\"dataframe\">\n",
       "<caption>A tibble: 6 × 3</caption>\n",
       "<thead>\n",
       "\t<tr><th scope=col>Sex</th><th scope=col>Age</th><th scope=col>Medal</th></tr>\n",
       "\t<tr><th scope=col>&lt;chr&gt;</th><th scope=col>&lt;dbl&gt;</th><th scope=col>&lt;chr&gt;</th></tr>\n",
       "</thead>\n",
       "<tbody>\n",
       "\t<tr><td>M</td><td>24</td><td>No    </td></tr>\n",
       "\t<tr><td>F</td><td>23</td><td>Bronze</td></tr>\n",
       "\t<tr><td>M</td><td>28</td><td>No    </td></tr>\n",
       "\t<tr><td>M</td><td>26</td><td>No    </td></tr>\n",
       "\t<tr><td>M</td><td>22</td><td>Gold  </td></tr>\n",
       "\t<tr><td>M</td><td>22</td><td>No    </td></tr>\n",
       "</tbody>\n",
       "</table>\n"
      ],
      "text/latex": [
       "A tibble: 6 × 3\n",
       "\\begin{tabular}{lll}\n",
       " Sex & Age & Medal\\\\\n",
       " <chr> & <dbl> & <chr>\\\\\n",
       "\\hline\n",
       "\t M & 24 & No    \\\\\n",
       "\t F & 23 & Bronze\\\\\n",
       "\t M & 28 & No    \\\\\n",
       "\t M & 26 & No    \\\\\n",
       "\t M & 22 & Gold  \\\\\n",
       "\t M & 22 & No    \\\\\n",
       "\\end{tabular}\n"
      ],
      "text/markdown": [
       "\n",
       "A tibble: 6 × 3\n",
       "\n",
       "| Sex &lt;chr&gt; | Age &lt;dbl&gt; | Medal &lt;chr&gt; |\n",
       "|---|---|---|\n",
       "| M | 24 | No     |\n",
       "| F | 23 | Bronze |\n",
       "| M | 28 | No     |\n",
       "| M | 26 | No     |\n",
       "| M | 22 | Gold   |\n",
       "| M | 22 | No     |\n",
       "\n"
      ],
      "text/plain": [
       "  Sex Age Medal \n",
       "1 M   24  No    \n",
       "2 F   23  Bronze\n",
       "3 M   28  No    \n",
       "4 M   26  No    \n",
       "5 M   22  Gold  \n",
       "6 M   22  No    "
      ]
     },
     "metadata": {},
     "output_type": "display_data"
    }
   ],
   "source": [
    "football_data$Medal[is.na(football_data$Medal)]<- \"No\"\n",
    "print(nrow(football_data))\n",
    "print(sum(is.na(football_data)))\n",
    "head(football_data)"
   ]
  },
  {
   "cell_type": "markdown",
   "id": "33d43433-7fd4-435d-9f12-a7d10d3d0d2e",
   "metadata": {},
   "source": [
    "<b>Table 3:</b> Preview of Imputed Football Data 1900 onwards"
   ]
  },
  {
   "cell_type": "markdown",
   "id": "5bd85cb0-742d-432b-81ce-8c1ecd913d93",
   "metadata": {},
   "source": [
    "<h5>Sample From the Population of Male/Female Olympic Football Athletes</h5>\n",
    "<hr/>\n",
    "\n",
    "Just like in actual world scenario, we take only one sample without replacement from population. Since, our population size is $6370$, taking a sample size which ~10% is better for inference i.e., sample size of $n = 600$, would be ideal for our research question.\n",
    "\n",
    "- To have a comparable confidence interval and visualizations for each gender we are taking equally sized sample  for both `male` and `female`\n",
    "- Then, we'll combine and simplify our sampled data by removing the `medals` column as, we're only interested about Olympic athletes and not the medals they won. "
   ]
  },
  {
   "cell_type": "code",
   "execution_count": 6,
   "id": "80ed4e65-a2e1-47b4-881e-65066514f3b0",
   "metadata": {},
   "outputs": [
    {
     "data": {
      "text/html": [
       "<table class=\"dataframe\">\n",
       "<caption>A tibble: 6 × 3</caption>\n",
       "<thead>\n",
       "\t<tr><th scope=col>Sex</th><th scope=col>Age</th><th scope=col>Medal</th></tr>\n",
       "\t<tr><th scope=col>&lt;chr&gt;</th><th scope=col>&lt;dbl&gt;</th><th scope=col>&lt;chr&gt;</th></tr>\n",
       "</thead>\n",
       "<tbody>\n",
       "\t<tr><td>M</td><td>32</td><td>No  </td></tr>\n",
       "\t<tr><td>M</td><td>21</td><td>No  </td></tr>\n",
       "\t<tr><td>M</td><td>28</td><td>Gold</td></tr>\n",
       "\t<tr><td>M</td><td>25</td><td>No  </td></tr>\n",
       "\t<tr><td>M</td><td>23</td><td>No  </td></tr>\n",
       "\t<tr><td>M</td><td>22</td><td>No  </td></tr>\n",
       "</tbody>\n",
       "</table>\n"
      ],
      "text/latex": [
       "A tibble: 6 × 3\n",
       "\\begin{tabular}{lll}\n",
       " Sex & Age & Medal\\\\\n",
       " <chr> & <dbl> & <chr>\\\\\n",
       "\\hline\n",
       "\t M & 32 & No  \\\\\n",
       "\t M & 21 & No  \\\\\n",
       "\t M & 28 & Gold\\\\\n",
       "\t M & 25 & No  \\\\\n",
       "\t M & 23 & No  \\\\\n",
       "\t M & 22 & No  \\\\\n",
       "\\end{tabular}\n"
      ],
      "text/markdown": [
       "\n",
       "A tibble: 6 × 3\n",
       "\n",
       "| Sex &lt;chr&gt; | Age &lt;dbl&gt; | Medal &lt;chr&gt; |\n",
       "|---|---|---|\n",
       "| M | 32 | No   |\n",
       "| M | 21 | No   |\n",
       "| M | 28 | Gold |\n",
       "| M | 25 | No   |\n",
       "| M | 23 | No   |\n",
       "| M | 22 | No   |\n",
       "\n"
      ],
      "text/plain": [
       "  Sex Age Medal\n",
       "1 M   32  No   \n",
       "2 M   21  No   \n",
       "3 M   28  Gold \n",
       "4 M   25  No   \n",
       "5 M   23  No   \n",
       "6 M   22  No   "
      ]
     },
     "metadata": {},
     "output_type": "display_data"
    }
   ],
   "source": [
    "set.seed(1234) #for better reproducibility do not change this\n",
    "\n",
    "male_sample <- football_data %>%\n",
    "                  filter(Sex == \"M\") %>%\n",
    "                  sample_n(size = 600)\n",
    "female_sample <- football_data %>%\n",
    "                  filter(Sex == \"F\") %>%\n",
    "                  sample_n(size = 600)\n",
    "\n",
    "head(male_sample)"
   ]
  },
  {
   "cell_type": "markdown",
   "id": "ce89d031-7d19-4514-be65-6703af2c95f3",
   "metadata": {},
   "source": [
    "<b>Table 4:</b> Sample of Male atheletes from filtered football dataset"
   ]
  },
  {
   "cell_type": "code",
   "execution_count": 7,
   "id": "01689a0e-a9db-412c-ad1a-a3be617cadc4",
   "metadata": {},
   "outputs": [
    {
     "data": {
      "text/html": [
       "<table class=\"dataframe\">\n",
       "<caption>A tibble: 6 × 3</caption>\n",
       "<thead>\n",
       "\t<tr><th scope=col>Sex</th><th scope=col>Age</th><th scope=col>Medal</th></tr>\n",
       "\t<tr><th scope=col>&lt;chr&gt;</th><th scope=col>&lt;dbl&gt;</th><th scope=col>&lt;chr&gt;</th></tr>\n",
       "</thead>\n",
       "<tbody>\n",
       "\t<tr><td>F</td><td>17</td><td>No    </td></tr>\n",
       "\t<tr><td>F</td><td>20</td><td>No    </td></tr>\n",
       "\t<tr><td>F</td><td>23</td><td>Bronze</td></tr>\n",
       "\t<tr><td>F</td><td>26</td><td>No    </td></tr>\n",
       "\t<tr><td>F</td><td>28</td><td>No    </td></tr>\n",
       "\t<tr><td>F</td><td>22</td><td>No    </td></tr>\n",
       "</tbody>\n",
       "</table>\n"
      ],
      "text/latex": [
       "A tibble: 6 × 3\n",
       "\\begin{tabular}{lll}\n",
       " Sex & Age & Medal\\\\\n",
       " <chr> & <dbl> & <chr>\\\\\n",
       "\\hline\n",
       "\t F & 17 & No    \\\\\n",
       "\t F & 20 & No    \\\\\n",
       "\t F & 23 & Bronze\\\\\n",
       "\t F & 26 & No    \\\\\n",
       "\t F & 28 & No    \\\\\n",
       "\t F & 22 & No    \\\\\n",
       "\\end{tabular}\n"
      ],
      "text/markdown": [
       "\n",
       "A tibble: 6 × 3\n",
       "\n",
       "| Sex &lt;chr&gt; | Age &lt;dbl&gt; | Medal &lt;chr&gt; |\n",
       "|---|---|---|\n",
       "| F | 17 | No     |\n",
       "| F | 20 | No     |\n",
       "| F | 23 | Bronze |\n",
       "| F | 26 | No     |\n",
       "| F | 28 | No     |\n",
       "| F | 22 | No     |\n",
       "\n"
      ],
      "text/plain": [
       "  Sex Age Medal \n",
       "1 F   17  No    \n",
       "2 F   20  No    \n",
       "3 F   23  Bronze\n",
       "4 F   26  No    \n",
       "5 F   28  No    \n",
       "6 F   22  No    "
      ]
     },
     "metadata": {},
     "output_type": "display_data"
    }
   ],
   "source": [
    "head(female_sample)"
   ]
  },
  {
   "cell_type": "markdown",
   "id": "c2ca6975-93dd-430a-94b7-e3c2368b1a41",
   "metadata": {},
   "source": [
    "<b>Table 5:</b> Sample of Female atheletes from filtered football dataset"
   ]
  },
  {
   "cell_type": "code",
   "execution_count": 8,
   "id": "f7de449b-5b1c-4dd0-aed1-514a26a60e59",
   "metadata": {},
   "outputs": [
    {
     "data": {
      "text/html": [
       "<table class=\"dataframe\">\n",
       "<caption>A tibble: 6 × 2</caption>\n",
       "<thead>\n",
       "\t<tr><th scope=col>Sex</th><th scope=col>Age</th></tr>\n",
       "\t<tr><th scope=col>&lt;chr&gt;</th><th scope=col>&lt;dbl&gt;</th></tr>\n",
       "</thead>\n",
       "<tbody>\n",
       "\t<tr><td>M</td><td>32</td></tr>\n",
       "\t<tr><td>M</td><td>21</td></tr>\n",
       "\t<tr><td>M</td><td>28</td></tr>\n",
       "\t<tr><td>M</td><td>25</td></tr>\n",
       "\t<tr><td>M</td><td>23</td></tr>\n",
       "\t<tr><td>M</td><td>22</td></tr>\n",
       "</tbody>\n",
       "</table>\n"
      ],
      "text/latex": [
       "A tibble: 6 × 2\n",
       "\\begin{tabular}{ll}\n",
       " Sex & Age\\\\\n",
       " <chr> & <dbl>\\\\\n",
       "\\hline\n",
       "\t M & 32\\\\\n",
       "\t M & 21\\\\\n",
       "\t M & 28\\\\\n",
       "\t M & 25\\\\\n",
       "\t M & 23\\\\\n",
       "\t M & 22\\\\\n",
       "\\end{tabular}\n"
      ],
      "text/markdown": [
       "\n",
       "A tibble: 6 × 2\n",
       "\n",
       "| Sex &lt;chr&gt; | Age &lt;dbl&gt; |\n",
       "|---|---|\n",
       "| M | 32 |\n",
       "| M | 21 |\n",
       "| M | 28 |\n",
       "| M | 25 |\n",
       "| M | 23 |\n",
       "| M | 22 |\n",
       "\n"
      ],
      "text/plain": [
       "  Sex Age\n",
       "1 M   32 \n",
       "2 M   21 \n",
       "3 M   28 \n",
       "4 M   25 \n",
       "5 M   23 \n",
       "6 M   22 "
      ]
     },
     "metadata": {},
     "output_type": "display_data"
    }
   ],
   "source": [
    "# combining sample for each gender and simplifying it as we don't care about medals won\n",
    "football_sample <- rbind(male_sample,female_sample) %>%\n",
    "            ungroup() %>%\n",
    "            select(-c(Medal))\n",
    "head(football_sample)"
   ]
  },
  {
   "cell_type": "markdown",
   "id": "0a47c6d3-49eb-42f0-8a71-a2a412e0641c",
   "metadata": {},
   "source": [
    "<b>Table 6:</b> Preview of Simplified Combined sample "
   ]
  },
  {
   "cell_type": "markdown",
   "id": "f5a14be7-1ece-4369-a349-a016a9fa69ee",
   "metadata": {},
   "source": [
    "<h3>Observed Statistics</h3>"
   ]
  },
  {
   "cell_type": "code",
   "execution_count": 9,
   "id": "85ee0914-c152-4a5e-afea-83861664855b",
   "metadata": {},
   "outputs": [
    {
     "data": {
      "text/html": [
       "<table class=\"dataframe\">\n",
       "<caption>A tibble: 1 × 2</caption>\n",
       "<thead>\n",
       "\t<tr><th scope=col>mean</th><th scope=col>variance</th></tr>\n",
       "\t<tr><th scope=col>&lt;dbl&gt;</th><th scope=col>&lt;dbl&gt;</th></tr>\n",
       "</thead>\n",
       "<tbody>\n",
       "\t<tr><td>23.36333</td><td>10.84273</td></tr>\n",
       "</tbody>\n",
       "</table>\n"
      ],
      "text/latex": [
       "A tibble: 1 × 2\n",
       "\\begin{tabular}{ll}\n",
       " mean & variance\\\\\n",
       " <dbl> & <dbl>\\\\\n",
       "\\hline\n",
       "\t 23.36333 & 10.84273\\\\\n",
       "\\end{tabular}\n"
      ],
      "text/markdown": [
       "\n",
       "A tibble: 1 × 2\n",
       "\n",
       "| mean &lt;dbl&gt; | variance &lt;dbl&gt; |\n",
       "|---|---|\n",
       "| 23.36333 | 10.84273 |\n",
       "\n"
      ],
      "text/plain": [
       "  mean     variance\n",
       "1 23.36333 10.84273"
      ]
     },
     "metadata": {},
     "output_type": "display_data"
    }
   ],
   "source": [
    "male_summary <- football_sample %>%\n",
    "                    filter(Sex == \"M\") %>%\n",
    "                    summarize(mean = mean(Age), variance = var(Age))\n",
    "male_summary"
   ]
  },
  {
   "cell_type": "markdown",
   "id": "f18250b4-4bca-44c6-af8c-6590378fb7a6",
   "metadata": {},
   "source": [
    "<b>Table 7:</b> Mean and Variance from Male Athlete's Sample"
   ]
  },
  {
   "cell_type": "code",
   "execution_count": 10,
   "id": "f057e0f0-ade6-431d-945e-5daeba9a84a9",
   "metadata": {},
   "outputs": [
    {
     "data": {
      "text/html": [
       "<table class=\"dataframe\">\n",
       "<caption>A tibble: 1 × 2</caption>\n",
       "<thead>\n",
       "\t<tr><th scope=col>mean</th><th scope=col>variance</th></tr>\n",
       "\t<tr><th scope=col>&lt;dbl&gt;</th><th scope=col>&lt;dbl&gt;</th></tr>\n",
       "</thead>\n",
       "<tbody>\n",
       "\t<tr><td>24.855</td><td>15.51316</td></tr>\n",
       "</tbody>\n",
       "</table>\n"
      ],
      "text/latex": [
       "A tibble: 1 × 2\n",
       "\\begin{tabular}{ll}\n",
       " mean & variance\\\\\n",
       " <dbl> & <dbl>\\\\\n",
       "\\hline\n",
       "\t 24.855 & 15.51316\\\\\n",
       "\\end{tabular}\n"
      ],
      "text/markdown": [
       "\n",
       "A tibble: 1 × 2\n",
       "\n",
       "| mean &lt;dbl&gt; | variance &lt;dbl&gt; |\n",
       "|---|---|\n",
       "| 24.855 | 15.51316 |\n",
       "\n"
      ],
      "text/plain": [
       "  mean   variance\n",
       "1 24.855 15.51316"
      ]
     },
     "metadata": {},
     "output_type": "display_data"
    }
   ],
   "source": [
    "female_summary <- football_sample %>%\n",
    "                    filter(Sex == \"F\") %>%\n",
    "                    summarize(mean = mean(Age), variance = var(Age))\n",
    "female_summary"
   ]
  },
  {
   "cell_type": "markdown",
   "id": "2e566de1-5836-4a17-8865-057d86eee993",
   "metadata": {},
   "source": [
    "<b>Table 8:</b> Mean and Variance from Female Athlete's Sample"
   ]
  },
  {
   "cell_type": "markdown",
   "id": "8b0b53a2-d0e9-4f01-8648-1067473e65cc",
   "metadata": {},
   "source": [
    "<h4> 📈 Visualizations</h4>\n",
    "\n",
    "As we're interested in the difference in `mean` age for `male` and `female` football olympic athletes and between their respective `variance` i.e., we can look at the histograms of the age distribution for each gender. Additionally, box plot would be great to learn about the spread between these two classes."
   ]
  },
  {
   "cell_type": "code",
   "execution_count": 11,
   "id": "e9ef7266-2c6b-4975-ab1f-20396f5686b9",
   "metadata": {},
   "outputs": [
    {
     "data": {
      "image/png": "[encoded data removed]",
      "text/plain": [
       "plot without title"
      ]
     },
     "metadata": {
      "image/png": {
       "height": 420,
       "width": 420
      }
     },
     "output_type": "display_data"
    }
   ],
   "source": [
    "# filtering sample for female athletes and ploting the age distribution\n",
    "female_age_plot <- football_sample %>%\n",
    "    filter(Sex == 'F') %>%\n",
    "    ggplot(aes(x=Age)) +\n",
    "    geom_histogram(bins = 10) +\n",
    "    labs(title = \"Female Football Athletes\",\n",
    "         x = \"Age (years)\") +\n",
    "    theme_bw()\n",
    "\n",
    "# filtering sample for male athletes and ploting the age distribution\n",
    "male_age_plot <- football_sample %>%\n",
    "    filter(Sex == 'M') %>%\n",
    "    ggplot(aes(x=Age)) +\n",
    "    geom_histogram(bins = 10) +\n",
    "    labs(title = \"Male Football Athletes\",\n",
    "         x = \"Age (years)\") +\n",
    "    theme_bw()\n",
    "\n",
    "# comparing the distribution plots between the two genders\n",
    "title <- ggdraw() + draw_label(\"Figure 1: Age of Both Male and Female Olympic Athletes \", fontface='bold')\n",
    "grid<- plot_grid(female_age_plot, male_age_plot, rel_widths = c(1, 1), rel_heights = c(1, 1))\n",
    "age_comparison <- plot_grid(title, grid,ncol=1, rel_heights=c(0.1, 1))\n",
    "age_comparison"
   ]
  },
  {
   "cell_type": "code",
   "execution_count": 12,
   "id": "96d005d3-2375-4141-83da-0069a56cfada",
   "metadata": {},
   "outputs": [
    {
     "name": "stderr",
     "output_type": "stream",
     "text": [
      "Warning message:\n",
      "“\u001b[1m\u001b[22mThe `<scale>` argument of `guides()` cannot be `FALSE`. Use \"none\" instead as\n",
      "of ggplot2 3.3.4.”\n"
     ]
    },
    {
     "data": {
      "image/png": "[encoded data removed]",
      "text/plain": [
       "plot without title"
      ]
     },
     "metadata": {
      "image/png": {
       "height": 420,
       "width": 420
      }
     },
     "output_type": "display_data"
    }
   ],
   "source": [
    "boxplot <- football_sample %>% \n",
    "            ggplot() +\n",
    "            geom_boxplot(aes(Sex , Age, fill = \"Blue\")) +\n",
    "            theme(text = element_text(size = 18), title = element_text(face = \"bold\")) +\n",
    "            ggtitle(\"Figure 2: Boxplot Distribution Ages of \\n Olympic Football Athletes\") + \n",
    "            xlab(\"Sex of Football Athletes\") + \n",
    "            ylab(\"Age (in yrs)\") + \n",
    "            guides(fill = FALSE)\n",
    "boxplot"
   ]
  },
  {
   "cell_type": "markdown",
   "id": "04a1244b-9278-496e-9392-301d3f0ac213",
   "metadata": {},
   "source": [
    "<h5>Observed Statistics</h5>"
   ]
  },
  {
   "cell_type": "code",
   "execution_count": 13,
   "id": "d2561d99-b30a-4a8f-b823-cd15eb81cd0f",
   "metadata": {},
   "outputs": [
    {
     "data": {
      "text/html": [
       "<table class=\"dataframe\">\n",
       "<caption>A data.frame: 1 × 6</caption>\n",
       "<thead>\n",
       "\t<tr><th scope=col>male_variance</th><th scope=col>female_variance</th><th scope=col>male_mean</th><th scope=col>female_mean</th><th scope=col>obs_mean_difference</th><th scope=col>obs_variance_difference</th></tr>\n",
       "\t<tr><th scope=col>&lt;dbl&gt;</th><th scope=col>&lt;dbl&gt;</th><th scope=col>&lt;dbl&gt;</th><th scope=col>&lt;dbl&gt;</th><th scope=col>&lt;dbl&gt;</th><th scope=col>&lt;dbl&gt;</th></tr>\n",
       "</thead>\n",
       "<tbody>\n",
       "\t<tr><td>10.84273</td><td>15.51316</td><td>23.36333</td><td>24.855</td><td>-1.491667</td><td>-4.670437</td></tr>\n",
       "</tbody>\n",
       "</table>\n"
      ],
      "text/latex": [
       "A data.frame: 1 × 6\n",
       "\\begin{tabular}{llllll}\n",
       " male\\_variance & female\\_variance & male\\_mean & female\\_mean & obs\\_mean\\_difference & obs\\_variance\\_difference\\\\\n",
       " <dbl> & <dbl> & <dbl> & <dbl> & <dbl> & <dbl>\\\\\n",
       "\\hline\n",
       "\t 10.84273 & 15.51316 & 23.36333 & 24.855 & -1.491667 & -4.670437\\\\\n",
       "\\end{tabular}\n"
      ],
      "text/markdown": [
       "\n",
       "A data.frame: 1 × 6\n",
       "\n",
       "| male_variance &lt;dbl&gt; | female_variance &lt;dbl&gt; | male_mean &lt;dbl&gt; | female_mean &lt;dbl&gt; | obs_mean_difference &lt;dbl&gt; | obs_variance_difference &lt;dbl&gt; |\n",
       "|---|---|---|---|---|---|\n",
       "| 10.84273 | 15.51316 | 23.36333 | 24.855 | -1.491667 | -4.670437 |\n",
       "\n"
      ],
      "text/plain": [
       "  male_variance female_variance male_mean female_mean obs_mean_difference\n",
       "1 10.84273      15.51316        23.36333  24.855      -1.491667          \n",
       "  obs_variance_difference\n",
       "1 -4.670437              "
      ]
     },
     "metadata": {},
     "output_type": "display_data"
    }
   ],
   "source": [
    "observed_stat <- data.frame(\n",
    "    male_variance = var(male_sample$Age),\n",
    "    female_variance = var(female_sample$Age),\n",
    "    male_mean = mean(male_sample$Age),\n",
    "    female_mean = mean(female_sample$Age),\n",
    "    obs_mean_difference = mean(male_sample$Age)-mean(female_sample$Age), #male-female\n",
    "    obs_variance_difference = var(male_sample$Age)-var(female_sample$Age)) #male-female\n",
    "observed_stat"
   ]
  },
  {
   "cell_type": "markdown",
   "id": "617f0b66-1628-473c-8aaa-d32e04eaa423",
   "metadata": {},
   "source": [
    "<b>Table 9:</b> Observed Statistics from sample"
   ]
  },
  {
   "cell_type": "markdown",
   "id": "b0ebddb6-fd66-44c9-93be-b856c89ab629",
   "metadata": {},
   "source": [
    "The plots above do address our question as there seem to be some difference in the sample means between these gender as well as there are some evident differences in the spread."
   ]
  },
  {
   "cell_type": "markdown",
   "id": "744718a2-4e93-46ec-96fe-16ea9a728866",
   "metadata": {},
   "source": [
    "<H2>💡Plan </H2>"
   ]
  },
  {
   "cell_type": "markdown",
   "id": "4d26a834-8136-4658-83e1-f1673e39de1e",
   "metadata": {},
   "source": [
    "The \"good thing\" about this report is the sample population we are using for the argument, `olympic football athletes` is sampled at random and unbiased fashion. Separating sports competition by gender is often regarded as one of the most controversial topics in the history of sports, especially with the recent rise and push for gender equality. Therefore by using this report, it directly reflects those competing at the highest levels, hence, those who are directly impacted by decision of gender affect on sports. As shown above, we were able to calculate the point estimate mean age, and produce graphs that help us visualize those point estimates that help us draw a relationship between the age and the olympic athletes in both genders.  We see some observed negative differences in Male and Female Athlete's mean & variance of age. However, we know nothing about the reliability of these results. \n",
    "\n",
    "<i>This is done from the single sample we took from population, assuming we don't have access to the population</i>\n",
    "\n",
    "To address the unreliability from visualizations we will be using hypothesis testing:\n",
    "1. Since we've 2 samples from 2 independent populations (Male and Female), we'll be using 2 sample t-testing.\n",
    "2. Later, we'll be using simulation method as it might gain a better approximation accuracy than asymptotic distribution.\n",
    "\n",
    "We'll also contruct a 95% confidence interval of the difference in mean/variance and check if it contains 0. As for the confidence interval, the sample we are using is really large ($n = 600 > 50$). Therefore a 95% confidence interval should provide a fairly low margin of error, allowing us to prove that the estimates are reliable\n",
    "\n",
    "<h4>Hypotheses</h4>\n",
    "<hr/>\n",
    "For both genders, the hypothesis tests will be:\n",
    "\n",
    "$$H_{0} : \\mu_{Age of Male Football Olymic Athletes} - \\mu_{Age of Female Football Olymic Athletes} = 0$$\n",
    "$$H_{A} : \\mu_{Age of Male Football Olymic Athletes} - \\mu_{Age of Female Football Olymic Athletes} \\not= 0$$\n",
    "\n",
    "Additionally, for the the scale parameter hypothesis test will be:\n",
    "\n",
    "$$H_{0} : {\\sigma}^2_{Age of Male Football Olymic Athletes} - {\\sigma}^2_{Age of Female Football Olymic Athletes} = 0$$\n",
    "$$H_{A} : {\\sigma}^2_{Age of Male Football Olymic Athletes} - {\\sigma}^2_{Age of Female Football Olymic Athletes} \\not= 0$$\n",
    "\n",
    "We expect the p-value from the hypothesis test to be less than 0.05 ($ p < 0.05$), as this would indicate that the deviations from the null hypothesis to be statistically significant, allowing us to reject the null hypothesis. "
   ]
  },
  {
   "cell_type": "markdown",
   "id": "63884a26-803f-41ab-873d-8157be1b10e8",
   "metadata": {},
   "source": [
    "<h4>Central Limit Theorem</h4>\n",
    "\n",
    "- <b>Random:</b> To obtain our sample we used random sampling method using `sample_n` such that they're random and unbiased.\n",
    "- <b>Independent: </b> Both the samples are independent of each other as they're Olympic Athletes of different genders from 1900 onwards.\n",
    "- <b>Sufficiently Large:</b> Additionally, both sample are approximately 10% of the population i.e., these sample are sufficiently large enough as $n = 600 > 30$\n",
    "\n",
    "Therefore, we can use normal approximation for the sampling distribution of difference in both mean and variance between `male` and `female athletes`"
   ]
  },
  {
   "cell_type": "markdown",
   "id": "f8c68de4-0d63-4ee9-a420-afa65dd42140",
   "metadata": {},
   "source": [
    "<h3>Hypotheses Testing</h3>\n",
    "\n",
    "<h3>Theory-based (Asymptotic) Method</h3>\n",
    "\n",
    "<h4>2 sample t-testing for Difference in mean</h4>\n",
    "<hr/>\n",
    "\n",
    "In this hypotheses, we will be using a two sample t-test to test the difference between 2 independent populations means, i.e, `Male Football Athletes` and `Female Football Athletes`. We are not performing a z-test here becuase we don't have access to the population standard deviation. \n",
    "\n",
    "<i> As our assumption was that we don't have access to the population </i>\n",
    "\n",
    "\n",
    "<b>Test Statistic:</b>\n",
    "$$ T = \\frac{\\bar{x}-\\bar{y}}{\\sqrt{\\frac{s^{2}_{1}}{n_1}+\\frac{s^{2}_2}{n_2} }} $$\n",
    "\n",
    "\n",
    "\n",
    "- $\\bar{x}$ and $\\bar{y}$ are the mean of Male and Female athlete's sample respectively; \n",
    "\n",
    "- $s_1, n_1$ and $s_2,n_2$ are standard deviation, sample size of repective genders"
   ]
  },
  {
   "cell_type": "code",
   "execution_count": 29,
   "id": "b17aabe3-803d-4f59-a457-2f750384568a",
   "metadata": {},
   "outputs": [
    {
     "data": {
      "text/html": [
       "<table class=\"dataframe\">\n",
       "<caption>A tibble: 2 × 4</caption>\n",
       "<thead>\n",
       "\t<tr><th scope=col>Sex</th><th scope=col>mean_age</th><th scope=col>sd_age</th><th scope=col>n</th></tr>\n",
       "\t<tr><th scope=col>&lt;chr&gt;</th><th scope=col>&lt;dbl&gt;</th><th scope=col>&lt;dbl&gt;</th><th scope=col>&lt;int&gt;</th></tr>\n",
       "</thead>\n",
       "<tbody>\n",
       "\t<tr><td>F</td><td>24.85500</td><td>3.938675</td><td>600</td></tr>\n",
       "\t<tr><td>M</td><td>23.36333</td><td>3.292830</td><td>600</td></tr>\n",
       "</tbody>\n",
       "</table>\n"
      ],
      "text/latex": [
       "A tibble: 2 × 4\n",
       "\\begin{tabular}{llll}\n",
       " Sex & mean\\_age & sd\\_age & n\\\\\n",
       " <chr> & <dbl> & <dbl> & <int>\\\\\n",
       "\\hline\n",
       "\t F & 24.85500 & 3.938675 & 600\\\\\n",
       "\t M & 23.36333 & 3.292830 & 600\\\\\n",
       "\\end{tabular}\n"
      ],
      "text/markdown": [
       "\n",
       "A tibble: 2 × 4\n",
       "\n",
       "| Sex &lt;chr&gt; | mean_age &lt;dbl&gt; | sd_age &lt;dbl&gt; | n &lt;int&gt; |\n",
       "|---|---|---|---|\n",
       "| F | 24.85500 | 3.938675 | 600 |\n",
       "| M | 23.36333 | 3.292830 | 600 |\n",
       "\n"
      ],
      "text/plain": [
       "  Sex mean_age sd_age   n  \n",
       "1 F   24.85500 3.938675 600\n",
       "2 M   23.36333 3.292830 600"
      ]
     },
     "metadata": {},
     "output_type": "display_data"
    }
   ],
   "source": [
    "# Dataframe with all the necesaary info to calculate test statistic\n",
    "football_summary <- football_sample %>% \n",
    "                        group_by(Sex) %>%\n",
    "                        summarise(mean_age = mean(Age),\n",
    "                                  sd_age = sd(Age),\n",
    "                                  n = n())\n",
    "football_summary   "
   ]
  },
  {
   "cell_type": "markdown",
   "id": "91c6303d-06aa-4eed-833f-b6b643e95ed9",
   "metadata": {},
   "source": [
    "<b>Table 10:</b> Summary of Dataset for calculating test-statistic"
   ]
  },
  {
   "cell_type": "code",
   "execution_count": 15,
   "id": "f8f778a2-dd45-4774-8488-3c34fd07ca0f",
   "metadata": {},
   "outputs": [
    {
     "name": "stdout",
     "output_type": "stream",
     "text": [
      "[1] -7.11719\n",
      "[1] 1161.526\n"
     ]
    }
   ],
   "source": [
    "# calculating test statistic\n",
    "test_statistic <- (football_summary$mean_age[2] - football_summary$mean_age[1])/\n",
    "                    (sqrt(football_summary$sd_age[2]^2/football_summary$n[2] + \n",
    "                          football_summary$sd_age[1]^2/football_summary$n[1]))\n",
    "# calculating the degrees of freedom\n",
    "dof <- (football_summary$sd_age[2]^2/football_summary$n[2] + football_summary$sd_age[1]^2/football_summary$n[1])^2/\n",
    "     (football_summary$sd_age[2]^4/(football_summary$n[2]^2*(football_summary$n[2] -1)) + \n",
    "      football_summary$sd_age[1]^4/(football_summary$n[1]^2*(football_summary$n[1] -1)))\n",
    "\n",
    "print(test_statistic)\n",
    "print(dof)"
   ]
  },
  {
   "cell_type": "code",
   "execution_count": 16,
   "id": "bd497753-f271-415d-b990-e54caa471685",
   "metadata": {},
   "outputs": [
    {
     "data": {
      "text/html": [
       "1.92425656912828e-12"
      ],
      "text/latex": [
       "1.92425656912828e-12"
      ],
      "text/markdown": [
       "1.92425656912828e-12"
      ],
      "text/plain": [
       "[1] 1.924257e-12"
      ]
     },
     "metadata": {},
     "output_type": "display_data"
    }
   ],
   "source": [
    "#calculating the p-value (two-tailed)\n",
    "p_value <- 2*pt(test_statistic , df = dof, lower.tail = TRUE)\n",
    "p_value"
   ]
  },
  {
   "cell_type": "markdown",
   "id": "f85cbd1d-b6e7-44f8-838f-f1d47d638a61",
   "metadata": {},
   "source": [
    "<h4>Interpretation</h4>\n",
    "\n",
    "Based on the `p_value` of $1.924e-12$, we can conclude that at a 5% significance level as our `p_value` is less than our significance level i.e., we reject our null hypotheses.\n",
    "\n",
    "Therefore, The mean age of male football olympic athletes after after 1900 is not the same as the mean age of the female football olympic athletes after 1900.\n",
    "\n",
    "Also, from the confidence interval provided by `t.test` we can see that it doesn't capture 0 i.e., the difference of mean = 0 isn't being captured by our 95% confidence interval."
   ]
  },
  {
   "cell_type": "code",
   "execution_count": 17,
   "id": "7ab5308f-86f2-478c-b584-23d2ac83fffa",
   "metadata": {},
   "outputs": [
    {
     "data": {
      "text/html": [
       "<table class=\"dataframe\">\n",
       "<caption>A tibble: 1 × 10</caption>\n",
       "<thead>\n",
       "\t<tr><th scope=col>estimate</th><th scope=col>estimate1</th><th scope=col>estimate2</th><th scope=col>statistic</th><th scope=col>p.value</th><th scope=col>parameter</th><th scope=col>conf.low</th><th scope=col>conf.high</th><th scope=col>method</th><th scope=col>alternative</th></tr>\n",
       "\t<tr><th scope=col>&lt;dbl&gt;</th><th scope=col>&lt;dbl&gt;</th><th scope=col>&lt;dbl&gt;</th><th scope=col>&lt;dbl&gt;</th><th scope=col>&lt;dbl&gt;</th><th scope=col>&lt;dbl&gt;</th><th scope=col>&lt;dbl&gt;</th><th scope=col>&lt;dbl&gt;</th><th scope=col>&lt;chr&gt;</th><th scope=col>&lt;chr&gt;</th></tr>\n",
       "</thead>\n",
       "<tbody>\n",
       "\t<tr><td>-1.491667</td><td>23.36333</td><td>24.855</td><td>-7.11719</td><td>1.924257e-12</td><td>1161.526</td><td>-1.902877</td><td>-1.080456</td><td>Welch Two Sample t-test</td><td>two.sided</td></tr>\n",
       "</tbody>\n",
       "</table>\n"
      ],
      "text/latex": [
       "A tibble: 1 × 10\n",
       "\\begin{tabular}{llllllllll}\n",
       " estimate & estimate1 & estimate2 & statistic & p.value & parameter & conf.low & conf.high & method & alternative\\\\\n",
       " <dbl> & <dbl> & <dbl> & <dbl> & <dbl> & <dbl> & <dbl> & <dbl> & <chr> & <chr>\\\\\n",
       "\\hline\n",
       "\t -1.491667 & 23.36333 & 24.855 & -7.11719 & 1.924257e-12 & 1161.526 & -1.902877 & -1.080456 & Welch Two Sample t-test & two.sided\\\\\n",
       "\\end{tabular}\n"
      ],
      "text/markdown": [
       "\n",
       "A tibble: 1 × 10\n",
       "\n",
       "| estimate &lt;dbl&gt; | estimate1 &lt;dbl&gt; | estimate2 &lt;dbl&gt; | statistic &lt;dbl&gt; | p.value &lt;dbl&gt; | parameter &lt;dbl&gt; | conf.low &lt;dbl&gt; | conf.high &lt;dbl&gt; | method &lt;chr&gt; | alternative &lt;chr&gt; |\n",
       "|---|---|---|---|---|---|---|---|---|---|\n",
       "| -1.491667 | 23.36333 | 24.855 | -7.11719 | 1.924257e-12 | 1161.526 | -1.902877 | -1.080456 | Welch Two Sample t-test | two.sided |\n",
       "\n"
      ],
      "text/plain": [
       "  estimate  estimate1 estimate2 statistic p.value      parameter conf.low \n",
       "1 -1.491667 23.36333  24.855    -7.11719  1.924257e-12 1161.526  -1.902877\n",
       "  conf.high method                  alternative\n",
       "1 -1.080456 Welch Two Sample t-test two.sided  "
      ]
     },
     "metadata": {},
     "output_type": "display_data"
    }
   ],
   "source": [
    "summary_t_test <- tidy(t.test(x = male_sample$Age , \n",
    "                        y = female_sample$Age ,\n",
    "                        alternative = \"two.sided\")) #by default it is 95% same as what we choose\n",
    "summary_t_test"
   ]
  },
  {
   "cell_type": "markdown",
   "id": "b140a216-d710-4493-a7be-eff3748992ac",
   "metadata": {},
   "source": [
    "<b>Table 11:</b> Summary of T-test using t.test"
   ]
  },
  {
   "cell_type": "markdown",
   "id": "48f17519-2493-4b28-a95c-9cc4fdae950e",
   "metadata": {},
   "source": [
    "<h3>Simulation-based Method</h3>\n",
    "\n",
    "In these hypotheses, we use `null = \"independence\"` as dealing with two independent categories of data, and our null hypothesis is that there is no difference in some parameter (here, mean and variance) between the categories. \n",
    "\n",
    "We'll use `generate` with `type = \"bootstrap\"` to generate bootstrap samples and confidence interval. Then, shift them to create a null model to calculate `pvalue`"
   ]
  },
  {
   "cell_type": "markdown",
   "id": "77736dd0-0e1b-4ca8-a2b3-3f8490f077a0",
   "metadata": {},
   "source": [
    "<h3>Difference in mean</h3>\n",
    "<hr/>"
   ]
  },
  {
   "cell_type": "code",
   "execution_count": 18,
   "id": "9639afb2-231f-4997-9342-dcdd3bf2399d",
   "metadata": {},
   "outputs": [
    {
     "name": "stdout",
     "output_type": "stream",
     "text": [
      "[1] 1000\n"
     ]
    },
    {
     "data": {
      "text/html": [
       "<table class=\"dataframe\">\n",
       "<caption>A infer: 6 × 2</caption>\n",
       "<thead>\n",
       "\t<tr><th scope=col>replicate</th><th scope=col>stat</th></tr>\n",
       "\t<tr><th scope=col>&lt;int&gt;</th><th scope=col>&lt;dbl&gt;</th></tr>\n",
       "</thead>\n",
       "<tbody>\n",
       "\t<tr><td>1</td><td>-1.302836</td></tr>\n",
       "\t<tr><td>2</td><td>-1.130586</td></tr>\n",
       "\t<tr><td>3</td><td>-1.671463</td></tr>\n",
       "\t<tr><td>4</td><td>-1.517626</td></tr>\n",
       "\t<tr><td>5</td><td>-1.541197</td></tr>\n",
       "\t<tr><td>6</td><td>-1.598042</td></tr>\n",
       "</tbody>\n",
       "</table>\n"
      ],
      "text/latex": [
       "A infer: 6 × 2\n",
       "\\begin{tabular}{ll}\n",
       " replicate & stat\\\\\n",
       " <int> & <dbl>\\\\\n",
       "\\hline\n",
       "\t 1 & -1.302836\\\\\n",
       "\t 2 & -1.130586\\\\\n",
       "\t 3 & -1.671463\\\\\n",
       "\t 4 & -1.517626\\\\\n",
       "\t 5 & -1.541197\\\\\n",
       "\t 6 & -1.598042\\\\\n",
       "\\end{tabular}\n"
      ],
      "text/markdown": [
       "\n",
       "A infer: 6 × 2\n",
       "\n",
       "| replicate &lt;int&gt; | stat &lt;dbl&gt; |\n",
       "|---|---|\n",
       "| 1 | -1.302836 |\n",
       "| 2 | -1.130586 |\n",
       "| 3 | -1.671463 |\n",
       "| 4 | -1.517626 |\n",
       "| 5 | -1.541197 |\n",
       "| 6 | -1.598042 |\n",
       "\n"
      ],
      "text/plain": [
       "  replicate stat     \n",
       "1 1         -1.302836\n",
       "2 2         -1.130586\n",
       "3 3         -1.671463\n",
       "4 4         -1.517626\n",
       "5 5         -1.541197\n",
       "6 6         -1.598042"
      ]
     },
     "metadata": {},
     "output_type": "display_data"
    }
   ],
   "source": [
    "set.seed(4321)# do not change\n",
    "# Bootstrapping for estimating Mean Age of Male Football Athletes - Mean Age of Female Football Athletes\n",
    "football_mean_diff <- football_sample %>%\n",
    "                    specify(formula=Age ~ Sex)%>%\n",
    "                    hypothesize(null = \"independence\") %>%\n",
    "                    generate(reps=1000, type = \"bootstrap\")%>%\n",
    "                    calculate(stat=\"diff in means\", order = c('M','F'))\n",
    "print(nrow(football_mean_diff))\n",
    "head(football_mean_diff)"
   ]
  },
  {
   "cell_type": "markdown",
   "id": "b47ad6ac-e3dc-4ea5-a45e-123fcedf50bc",
   "metadata": {},
   "source": [
    "<b>Table 12:</b> Preview of Bootstrapped difference in mean "
   ]
  },
  {
   "cell_type": "code",
   "execution_count": 19,
   "id": "fe312d2a-26ba-4beb-8304-060d54874f3f",
   "metadata": {},
   "outputs": [
    {
     "data": {
      "text/html": [
       "<table class=\"dataframe\">\n",
       "<caption>A tibble: 1 × 2</caption>\n",
       "<thead>\n",
       "\t<tr><th scope=col>lower_ci</th><th scope=col>upper_ci</th></tr>\n",
       "\t<tr><th scope=col>&lt;dbl&gt;</th><th scope=col>&lt;dbl&gt;</th></tr>\n",
       "</thead>\n",
       "<tbody>\n",
       "\t<tr><td>-1.91857</td><td>-1.070491</td></tr>\n",
       "</tbody>\n",
       "</table>\n"
      ],
      "text/latex": [
       "A tibble: 1 × 2\n",
       "\\begin{tabular}{ll}\n",
       " lower\\_ci & upper\\_ci\\\\\n",
       " <dbl> & <dbl>\\\\\n",
       "\\hline\n",
       "\t -1.91857 & -1.070491\\\\\n",
       "\\end{tabular}\n"
      ],
      "text/markdown": [
       "\n",
       "A tibble: 1 × 2\n",
       "\n",
       "| lower_ci &lt;dbl&gt; | upper_ci &lt;dbl&gt; |\n",
       "|---|---|\n",
       "| -1.91857 | -1.070491 |\n",
       "\n"
      ],
      "text/plain": [
       "  lower_ci upper_ci \n",
       "1 -1.91857 -1.070491"
      ]
     },
     "metadata": {},
     "output_type": "display_data"
    }
   ],
   "source": [
    "mean_diff_ci <- football_mean_diff%>%\n",
    "                get_confidence_interval(level = 0.95)\n",
    "\n",
    "mean_diff_ci"
   ]
  },
  {
   "cell_type": "markdown",
   "id": "e034a78f-9645-407f-a6cf-39eb74e0bb40",
   "metadata": {},
   "source": [
    "<b>Table 13:</b> Confidence Interval for mean difference (bootstrap based simulation method)"
   ]
  },
  {
   "cell_type": "code",
   "execution_count": 20,
   "id": "cf467cf5-a07c-4615-a339-4dcbbfddd312",
   "metadata": {},
   "outputs": [
    {
     "data": {
      "text/html": [
       "<table class=\"dataframe\">\n",
       "<caption>A infer: 1000 × 2</caption>\n",
       "<thead>\n",
       "\t<tr><th scope=col>replicate</th><th scope=col>stat</th></tr>\n",
       "\t<tr><th scope=col>&lt;int&gt;</th><th scope=col>&lt;dbl&gt;</th></tr>\n",
       "</thead>\n",
       "<tbody>\n",
       "\t<tr><td>1</td><td> 0.1888310</td></tr>\n",
       "\t<tr><td>2</td><td> 0.3610810</td></tr>\n",
       "\t<tr><td>3</td><td>-0.1797963</td></tr>\n",
       "\t<tr><td>⋮</td><td>⋮</td></tr>\n",
       "\t<tr><td> 998</td><td>-0.04575000</td></tr>\n",
       "\t<tr><td> 999</td><td>-0.08322825</td></tr>\n",
       "\t<tr><td>1000</td><td> 0.34959401</td></tr>\n",
       "</tbody>\n",
       "</table>\n"
      ],
      "text/latex": [
       "A infer: 1000 × 2\n",
       "\\begin{tabular}{ll}\n",
       " replicate & stat\\\\\n",
       " <int> & <dbl>\\\\\n",
       "\\hline\n",
       "\t 1 &  0.1888310\\\\\n",
       "\t 2 &  0.3610810\\\\\n",
       "\t 3 & -0.1797963\\\\\n",
       "\t ⋮ & ⋮\\\\\n",
       "\t  998 & -0.04575000\\\\\n",
       "\t  999 & -0.08322825\\\\\n",
       "\t 1000 &  0.34959401\\\\\n",
       "\\end{tabular}\n"
      ],
      "text/markdown": [
       "\n",
       "A infer: 1000 × 2\n",
       "\n",
       "| replicate &lt;int&gt; | stat &lt;dbl&gt; |\n",
       "|---|---|\n",
       "| 1 |  0.1888310 |\n",
       "| 2 |  0.3610810 |\n",
       "| 3 | -0.1797963 |\n",
       "| ⋮ | ⋮ |\n",
       "|  998 | -0.04575000 |\n",
       "|  999 | -0.08322825 |\n",
       "| 1000 |  0.34959401 |\n",
       "\n"
      ],
      "text/plain": [
       "     replicate stat       \n",
       "1    1          0.1888310 \n",
       "2    2          0.3610810 \n",
       "3    3         -0.1797963 \n",
       "⋮    ⋮         ⋮          \n",
       "998   998      -0.04575000\n",
       "999   999      -0.08322825\n",
       "1000 1000       0.34959401"
      ]
     },
     "metadata": {},
     "output_type": "display_data"
    }
   ],
   "source": [
    "shift <- observed_stat$obs_mean_difference\n",
    "\n",
    "null_model <- football_mean_diff %>%\n",
    "                mutate(stat = stat - shift)\n",
    "null_model"
   ]
  },
  {
   "cell_type": "markdown",
   "id": "32edbab7-f5ff-45f7-9c92-6677a2ab9159",
   "metadata": {},
   "source": [
    "<b>Table 14:</b> Preview of Null model for difference in mean"
   ]
  },
  {
   "cell_type": "code",
   "execution_count": 21,
   "id": "03a8cbf7-e5b7-4e27-86be-b2db726102c9",
   "metadata": {},
   "outputs": [
    {
     "data": {
      "image/png": "[encoded data removed]",
      "text/plain": [
       "plot without title"
      ]
     },
     "metadata": {
      "image/png": {
       "height": 420,
       "width": 420
      }
     },
     "output_type": "display_data"
    }
   ],
   "source": [
    "shade_mean_diff <- null_model %>%\n",
    "                        visualize() +\n",
    "                        shade_ci(endpoints = mean_diff_ci) +\n",
    "                        labs(x = \"difference in mean of Age\")+ \n",
    "                        ggtitle(\"Figure 3: Simulation-Based Null Distribution of difference in mean\")+\n",
    "                        theme(title = element_text(face = \"bold\"))\n",
    "shade_mean_diff"
   ]
  },
  {
   "cell_type": "code",
   "execution_count": 22,
   "id": "142ca8ae-d0d0-4ed6-81f7-f48793b62404",
   "metadata": {},
   "outputs": [
    {
     "name": "stderr",
     "output_type": "stream",
     "text": [
      "Warning message:\n",
      "“Please be cautious in reporting a p-value of 0. This result is an approximation based on the number of `reps` chosen in the `generate()` step. See `?get_p_value()` for more information.”\n"
     ]
    },
    {
     "name": "stdout",
     "output_type": "stream",
     "text": [
      "[1] \"our p-value from null model is < 0.001\"\n"
     ]
    }
   ],
   "source": [
    "# Calculating the p-value\n",
    "p_value = null_model %>% get_p_value(obs_stat = observed_stat$obs_mean_difference, direction = \"both\")\n",
    "if(p_value==0)print(\"our p-value from null model is < 0.001\")"
   ]
  },
  {
   "cell_type": "markdown",
   "id": "e4e50c23-b428-4b09-aef5-f2be0407a668",
   "metadata": {},
   "source": [
    "<h4>Interpretation</h4>\n",
    "\n",
    "From the null distribution plot we can see that the confidence interval for mean difference of age in male and female athletes doesn't capture 0. Also, the `p-value` < 0.001 i.e., less than our signficance level of 0.05. Therefore, indicating it is significant enough to reject the null hypothesis."
   ]
  },
  {
   "cell_type": "markdown",
   "id": "0107d7f9-05b9-4c2e-a71b-a740f963e2b9",
   "metadata": {},
   "source": [
    "<h3>Difference in Variance</h3>\n",
    "<hr/>\n",
    "\n",
    "Similar to difference in mean, here we'll `generate` with `type = \"bootstrap\"` to generate bootstrap samples and confidence interval. Then, shift them to create a null model to calculate `pvalue`"
   ]
  },
  {
   "cell_type": "code",
   "execution_count": 23,
   "id": "dc8a2589-e145-4f7c-b97e-91eef8cca85c",
   "metadata": {},
   "outputs": [
    {
     "name": "stdout",
     "output_type": "stream",
     "text": [
      "[1] 1000\n"
     ]
    },
    {
     "data": {
      "text/html": [
       "<table class=\"dataframe\">\n",
       "<caption>A infer: 6 × 2</caption>\n",
       "<thead>\n",
       "\t<tr><th scope=col>replicate</th><th scope=col>stat</th></tr>\n",
       "\t<tr><th scope=col>&lt;int&gt;</th><th scope=col>&lt;dbl&gt;</th></tr>\n",
       "</thead>\n",
       "<tbody>\n",
       "\t<tr><td>1</td><td>-5.189449</td></tr>\n",
       "\t<tr><td>2</td><td>-4.343486</td></tr>\n",
       "\t<tr><td>3</td><td>-3.332254</td></tr>\n",
       "\t<tr><td>4</td><td>-5.300301</td></tr>\n",
       "\t<tr><td>5</td><td>-4.814224</td></tr>\n",
       "\t<tr><td>6</td><td>-3.831594</td></tr>\n",
       "</tbody>\n",
       "</table>\n"
      ],
      "text/latex": [
       "A infer: 6 × 2\n",
       "\\begin{tabular}{ll}\n",
       " replicate & stat\\\\\n",
       " <int> & <dbl>\\\\\n",
       "\\hline\n",
       "\t 1 & -5.189449\\\\\n",
       "\t 2 & -4.343486\\\\\n",
       "\t 3 & -3.332254\\\\\n",
       "\t 4 & -5.300301\\\\\n",
       "\t 5 & -4.814224\\\\\n",
       "\t 6 & -3.831594\\\\\n",
       "\\end{tabular}\n"
      ],
      "text/markdown": [
       "\n",
       "A infer: 6 × 2\n",
       "\n",
       "| replicate &lt;int&gt; | stat &lt;dbl&gt; |\n",
       "|---|---|\n",
       "| 1 | -5.189449 |\n",
       "| 2 | -4.343486 |\n",
       "| 3 | -3.332254 |\n",
       "| 4 | -5.300301 |\n",
       "| 5 | -4.814224 |\n",
       "| 6 | -3.831594 |\n",
       "\n"
      ],
      "text/plain": [
       "  replicate stat     \n",
       "1 1         -5.189449\n",
       "2 2         -4.343486\n",
       "3 3         -3.332254\n",
       "4 4         -5.300301\n",
       "5 5         -4.814224\n",
       "6 6         -3.831594"
      ]
     },
     "metadata": {},
     "output_type": "display_data"
    }
   ],
   "source": [
    "set.seed(1234) #do not change\n",
    "\n",
    "football_female_resample_var <- football_sample %>%\n",
    "                    filter(Sex == \"F\")%>%\n",
    "                    specify(response=Age)%>%\n",
    "                    generate(reps=1000, type = \"bootstrap\")%>%\n",
    "                    calculate(stat=\"sd\")%>%\n",
    "                    mutate(stat = stat^2)\n",
    "\n",
    "football_diff_in_var <- football_sample %>%\n",
    "                    filter(Sex == \"M\")%>%\n",
    "                    specify(response=Age)%>%\n",
    "                    generate(reps=1000, type = \"bootstrap\")%>%\n",
    "                    calculate(stat=\"sd\")%>%\n",
    "                    mutate(stat = stat^2 - football_female_resample_var$stat)\n",
    "\n",
    "print(nrow(football_diff_in_var))\n",
    "head(football_diff_in_var)"
   ]
  },
  {
   "cell_type": "markdown",
   "id": "104b0589-71de-4a71-95d6-7a6edc806244",
   "metadata": {},
   "source": [
    "<b>Table 16:</b> Preview of Difference in Variance (simulation-based) "
   ]
  },
  {
   "cell_type": "code",
   "execution_count": 24,
   "id": "fe5b1570-cca3-4c15-846a-be23e17435e0",
   "metadata": {},
   "outputs": [
    {
     "data": {
      "text/html": [
       "<table class=\"dataframe\">\n",
       "<caption>A tibble: 1 × 2</caption>\n",
       "<thead>\n",
       "\t<tr><th scope=col>lower_ci</th><th scope=col>upper_ci</th></tr>\n",
       "\t<tr><th scope=col>&lt;dbl&gt;</th><th scope=col>&lt;dbl&gt;</th></tr>\n",
       "</thead>\n",
       "<tbody>\n",
       "\t<tr><td>-6.750165</td><td>-2.605913</td></tr>\n",
       "</tbody>\n",
       "</table>\n"
      ],
      "text/latex": [
       "A tibble: 1 × 2\n",
       "\\begin{tabular}{ll}\n",
       " lower\\_ci & upper\\_ci\\\\\n",
       " <dbl> & <dbl>\\\\\n",
       "\\hline\n",
       "\t -6.750165 & -2.605913\\\\\n",
       "\\end{tabular}\n"
      ],
      "text/markdown": [
       "\n",
       "A tibble: 1 × 2\n",
       "\n",
       "| lower_ci &lt;dbl&gt; | upper_ci &lt;dbl&gt; |\n",
       "|---|---|\n",
       "| -6.750165 | -2.605913 |\n",
       "\n"
      ],
      "text/plain": [
       "  lower_ci  upper_ci \n",
       "1 -6.750165 -2.605913"
      ]
     },
     "metadata": {},
     "output_type": "display_data"
    }
   ],
   "source": [
    "#calculating confidence interval for bootstrapped sample\n",
    "football_resample_ci<- football_diff_in_var %>% \n",
    "                       get_confidence_interval(level = 0.95, type = \"percentile\")\n",
    "football_resample_ci"
   ]
  },
  {
   "cell_type": "markdown",
   "id": "ade0534e-dce7-449f-8932-c9d94244770e",
   "metadata": {},
   "source": [
    "<b>Table 17:</b> Confidence Interval for variance difference (boostrap based simulation method)"
   ]
  },
  {
   "cell_type": "code",
   "execution_count": 25,
   "id": "885a5239-2d2e-4fd9-8e3e-870a281325aa",
   "metadata": {},
   "outputs": [
    {
     "data": {
      "text/html": [
       "<table class=\"dataframe\">\n",
       "<caption>A infer: 1000 × 2</caption>\n",
       "<thead>\n",
       "\t<tr><th scope=col>replicate</th><th scope=col>stat</th></tr>\n",
       "\t<tr><th scope=col>&lt;int&gt;</th><th scope=col>&lt;dbl&gt;</th></tr>\n",
       "</thead>\n",
       "<tbody>\n",
       "\t<tr><td>1</td><td>-0.5190122</td></tr>\n",
       "\t<tr><td>2</td><td> 0.3269505</td></tr>\n",
       "\t<tr><td>3</td><td> 1.3381831</td></tr>\n",
       "\t<tr><td>⋮</td><td>⋮</td></tr>\n",
       "\t<tr><td> 998</td><td> 0.05934891</td></tr>\n",
       "\t<tr><td> 999</td><td>-0.56194769</td></tr>\n",
       "\t<tr><td>1000</td><td> 0.29841402</td></tr>\n",
       "</tbody>\n",
       "</table>\n"
      ],
      "text/latex": [
       "A infer: 1000 × 2\n",
       "\\begin{tabular}{ll}\n",
       " replicate & stat\\\\\n",
       " <int> & <dbl>\\\\\n",
       "\\hline\n",
       "\t 1 & -0.5190122\\\\\n",
       "\t 2 &  0.3269505\\\\\n",
       "\t 3 &  1.3381831\\\\\n",
       "\t ⋮ & ⋮\\\\\n",
       "\t  998 &  0.05934891\\\\\n",
       "\t  999 & -0.56194769\\\\\n",
       "\t 1000 &  0.29841402\\\\\n",
       "\\end{tabular}\n"
      ],
      "text/markdown": [
       "\n",
       "A infer: 1000 × 2\n",
       "\n",
       "| replicate &lt;int&gt; | stat &lt;dbl&gt; |\n",
       "|---|---|\n",
       "| 1 | -0.5190122 |\n",
       "| 2 |  0.3269505 |\n",
       "| 3 |  1.3381831 |\n",
       "| ⋮ | ⋮ |\n",
       "|  998 |  0.05934891 |\n",
       "|  999 | -0.56194769 |\n",
       "| 1000 |  0.29841402 |\n",
       "\n"
      ],
      "text/plain": [
       "     replicate stat       \n",
       "1    1         -0.5190122 \n",
       "2    2          0.3269505 \n",
       "3    3          1.3381831 \n",
       "⋮    ⋮         ⋮          \n",
       "998   998       0.05934891\n",
       "999   999      -0.56194769\n",
       "1000 1000       0.29841402"
      ]
     },
     "metadata": {},
     "output_type": "display_data"
    }
   ],
   "source": [
    "shift <- observed_stat$obs_variance_difference\n",
    "# constructing null model using shifting\n",
    "null_model <- football_diff_in_var %>%\n",
    "    mutate(stat = stat - shift)\n",
    "\n",
    "null_model"
   ]
  },
  {
   "cell_type": "markdown",
   "id": "aa1e6caa-c81b-4a7c-b622-e9bcab30bf9c",
   "metadata": {},
   "source": [
    "<b>Table 18:</b>  Preview of Null Model after shifting"
   ]
  },
  {
   "cell_type": "code",
   "execution_count": 26,
   "id": "688c669e-f302-4943-b183-b47c24f51b36",
   "metadata": {},
   "outputs": [
    {
     "data": {
      "image/png": "[encoded data removed]",
      "text/plain": [
       "plot without title"
      ]
     },
     "metadata": {
      "image/png": {
       "height": 420,
       "width": 420
      }
     },
     "output_type": "display_data"
    }
   ],
   "source": [
    "null_model_plot <- null_model %>%\n",
    "    visualize(bins = 20) +\n",
    "    shade_ci(endpoints = football_resample_ci) +\n",
    "    labs(x = \"difference in variance of Age\")+ \n",
    "    ggtitle(\"Figure 4: Simulation-Based Null Distribution of difference in variance\")+\n",
    "    theme(title = element_text(face = \"bold\"))\n",
    "\n",
    "null_model_plot"
   ]
  },
  {
   "cell_type": "code",
   "execution_count": 27,
   "id": "b2050cb5-c0c1-4753-a3a3-cfc3dc49aee5",
   "metadata": {},
   "outputs": [
    {
     "name": "stderr",
     "output_type": "stream",
     "text": [
      "Warning message:\n",
      "“Please be cautious in reporting a p-value of 0. This result is an approximation based on the number of `reps` chosen in the `generate()` step. See `?get_p_value()` for more information.”\n"
     ]
    },
    {
     "name": "stdout",
     "output_type": "stream",
     "text": [
      "[1] \"our p-value from null model is < 0.001\"\n"
     ]
    }
   ],
   "source": [
    "# Calculating the p-value\n",
    "p_value = null_model %>% get_p_value(obs_stat = observed_stat$obs_variance_difference, direction = \"both\")\n",
    "\n",
    "if(p_value==0)print(\"our p-value from null model is < 0.001\")"
   ]
  },
  {
   "cell_type": "markdown",
   "id": "f6fc33f4-2e74-48e8-836c-8546067fe0da",
   "metadata": {},
   "source": [
    "<h4>Interpretation</h4>\n",
    "\n",
    "From the null distribution plot above we can see that the confidence interval for difference in variance between male and female doesn't capture 0. Also as, the `p-value` < 0.001 i.e., less than our significance level of 0.05. Therefore, indicating it is significant enough to reject the null hypothesis. \n",
    "\n",
    "<h3>Bootstrapping VS Asymptotics</h3>\n",
    "<hr/>\n",
    "Choosing between bootstrapping and asymptotics depends on data characteristics and assumptions. Simulation-based methods, like bootstrapping, offer an advantage by not relying heavily on distribution assumptions. In cases of smaller sample sizes, simulation methods often yield more robust results, as theory-based methods may struggle with assumptions such as those required by the CLT. The decision depends on the specific sample size, and the ability to meet underlying assumptions. In situations with uncertain assumptions or smaller samples, simulation-based methods, particularly bootstrapping, may be a more reliable choice.\n",
    "\n",
    "<h4>Comparing Confidence Intervals of Bootstrapping and CLT</h4>\n"
   ]
  },
  {
   "cell_type": "code",
   "execution_count": 28,
   "id": "6a93632b-c4ba-45da-83ca-4d96a645848b",
   "metadata": {},
   "outputs": [
    {
     "data": {
      "text/html": [
       "<table class=\"dataframe\">\n",
       "<caption>A data.frame: 2 × 3</caption>\n",
       "<thead>\n",
       "\t<tr><th scope=col>t_difference_in_mean_ci</th><th scope=col>bootstrap_difference_in_mean_ci</th><th scope=col>bootstrap_difference_in_variance_ci</th></tr>\n",
       "\t<tr><th scope=col>&lt;dbl&gt;</th><th scope=col>&lt;dbl&gt;</th><th scope=col>&lt;dbl&gt;</th></tr>\n",
       "</thead>\n",
       "<tbody>\n",
       "\t<tr><td>-1.902877</td><td>-1.918570</td><td>-6.750165</td></tr>\n",
       "\t<tr><td>-1.080456</td><td>-1.070491</td><td>-2.605913</td></tr>\n",
       "</tbody>\n",
       "</table>\n"
      ],
      "text/latex": [
       "A data.frame: 2 × 3\n",
       "\\begin{tabular}{lll}\n",
       " t\\_difference\\_in\\_mean\\_ci & bootstrap\\_difference\\_in\\_mean\\_ci & bootstrap\\_difference\\_in\\_variance\\_ci\\\\\n",
       " <dbl> & <dbl> & <dbl>\\\\\n",
       "\\hline\n",
       "\t -1.902877 & -1.918570 & -6.750165\\\\\n",
       "\t -1.080456 & -1.070491 & -2.605913\\\\\n",
       "\\end{tabular}\n"
      ],
      "text/markdown": [
       "\n",
       "A data.frame: 2 × 3\n",
       "\n",
       "| t_difference_in_mean_ci &lt;dbl&gt; | bootstrap_difference_in_mean_ci &lt;dbl&gt; | bootstrap_difference_in_variance_ci &lt;dbl&gt; |\n",
       "|---|---|---|\n",
       "| -1.902877 | -1.918570 | -6.750165 |\n",
       "| -1.080456 | -1.070491 | -2.605913 |\n",
       "\n"
      ],
      "text/plain": [
       "  t_difference_in_mean_ci bootstrap_difference_in_mean_ci\n",
       "1 -1.902877               -1.918570                      \n",
       "2 -1.080456               -1.070491                      \n",
       "  bootstrap_difference_in_variance_ci\n",
       "1 -6.750165                          \n",
       "2 -2.605913                          "
      ]
     },
     "metadata": {},
     "output_type": "display_data"
    }
   ],
   "source": [
    "# Comparing all CIs side by side\n",
    "t_diff_in_mean <- c(summary_t_test$conf.low, summary_t_test$conf.high)\n",
    "boot_diff_in_var <- as.numeric(football_resample_ci[1:2])\n",
    "boot_diff_in_mean<- as.numeric(mean_diff_ci[1:2])\n",
    "\n",
    "confidence_interval <- data.frame(\n",
    "                        t_difference_in_mean_ci = t_diff_in_mean,\n",
    "                        bootstrap_difference_in_mean_ci = boot_diff_in_mean,\n",
    "                        bootstrap_difference_in_variance_ci = boot_diff_in_var\n",
    ")\n",
    "confidence_interval"
   ]
  },
  {
   "cell_type": "markdown",
   "id": "c719fc94-a636-4855-ad5b-79cdbe41b25c",
   "metadata": {},
   "source": [
    "Our results from both bootstrapping and asymptotics are consistent. Which is evident from the extremely similar `confidence interval` and `p-value` of bootstrap and asymptotic method. This is a result of our sample being sufficiently large for both of these methods to be optimal. Therefore, I don't think anyone one of them is particularly more trustworthy than other."
   ]
  },
  {
   "cell_type": "markdown",
   "id": "a62427fa-3da0-42bf-a625-95e7a0d03bdc",
   "metadata": {},
   "source": [
    "<h3>🎙 Discussion</h3>"
   ]
  },
  {
   "cell_type": "markdown",
   "id": "6f7584d1-68ad-45d2-80d5-a32a39cd6cb0",
   "metadata": {},
   "source": [
    "Our report concludes that as our observed p-value for both the difference in mean and difference in variance  are highly statistically significant therefore,  we reject null hypotheses for each difference in mean and difference in variance. In conclusion, there exists a difference between the mean and variance of Olympic male football  athletes and female football athletes age from 1900 onwards. In other words, gender does seem to be an influencing factor in the mean age of Olympic football athletes.\n",
    "\n",
    "<b>Expectations</b>\n",
    "\n",
    "These findings counters the common narrative that female athletes have shorter career spans or younger prime ages than their male counterparts. Given the mixed conclusions of past literature on similar topics and the preliminary data visualizations (histogram and boxplot), we estimated that there would be a difference in mean age between the two genders, our findings did align with those expectations. \n",
    "\n",
    "<b>Future Questions/Research</b>\n",
    "\n",
    "This would help us conclude that age does in fact play a role in the performances of athletes for both genders. These findings could be used to argue that sport competitions should or shouldn’t be separated by both gender and age. Leading to some further questions like, Is there a relationship between the Weight Class and Gender for Olympic Football Athletes? Does Gender affect the likeliness of Olympic Football Athletes winning a medal?"
   ]
  },
  {
   "cell_type": "markdown",
   "id": "8f848a21-7762-4683-823c-d208561f53b3",
   "metadata": {},
   "source": [
    "<H3>References</H3>"
   ]
  },
  {
   "cell_type": "markdown",
   "id": "e4e5f1cb-48e2-4f75-94c2-defdd3df4ec5",
   "metadata": {},
   "source": [
    "- Bongard, V., McDermott, A. Y., Dallal, G. E., & Schaefer, E. J. (2007). Effects of age and gender on physical performance. AGE, 29(2-3), 77–85. https://doi.org/10.1007/s11357-007-9034-z\n",
    "\n",
    "- Barreira, J., Bueno, B., & Chiminazzo, J. G. C. (2021). Relative age effect and age of peak performance: an analysis of women’s football players in the Olympic games (1996-2016). In Motriz: Revista de Educação Física (Vol. 27). FapUNIFESP (SciELO). https://doi.org/10.1590/s1980-65742021006921\n",
    "\n",
    "- Forman, S. (2000). Sports reference . Sports stats, fast, easy, and up-to-date. Retrieved November 4, 2022, from https://www.sports-reference.com/"
   ]
  },
  {
   "cell_type": "code",
   "execution_count": null,
   "id": "53ffd16d-353a-4259-86f7-9203342e1cf7",
   "metadata": {},
   "outputs": [],
   "source": []
  }
 ],
 "metadata": {
  "kernelspec": {
   "display_name": "R",
   "language": "R",
   "name": "ir"
  },
  "language_info": {
   "codemirror_mode": "r",
   "file_extension": ".r",
   "mimetype": "text/x-r-source",
   "name": "R",
   "pygments_lexer": "r",
   "version": "4.3.0"
  }
 },
 "nbformat": 4,
 "nbformat_minor": 5
}
